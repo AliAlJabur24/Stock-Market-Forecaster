{
  "nbformat": 4,
  "nbformat_minor": 0,
  "metadata": {
    "colab": {
      "name": "Stock Market Forecaster.ipynb",
      "provenance": [],
      "collapsed_sections": [
        "ASIJnLjScv9B",
        "j57-ly4Jc5va"
      ],
      "toc_visible": true
    },
    "kernelspec": {
      "name": "python3",
      "display_name": "Python 3"
    },
    "accelerator": "GPU"
  },
  "cells": [
    {
      "cell_type": "markdown",
      "metadata": {
        "id": "mrG0EKYUXRoY"
      },
      "source": [
        "# Tesla (TSLA) Stock Price prediction using Facebook Prophet "
      ]
    },
    {
      "cell_type": "code",
      "metadata": {
        "id": "z-5WsJ9Ef6k_"
      },
      "source": [
        "## Switch to GPU mode for faster Computation (Runtime> Change runtime> GPU)"
      ],
      "execution_count": null,
      "outputs": []
    },
    {
      "cell_type": "markdown",
      "metadata": {
        "id": "EJPImZ5za2DY"
      },
      "source": [
        "## Importing all the necessary Libraries"
      ]
    },
    {
      "cell_type": "code",
      "metadata": {
        "id": "ZNPlTwMfbBbv"
      },
      "source": [
        "#Necessary libraries = Pandas, fbprophet and plotly\n",
        "\n",
        "#pandas= data Manipulation and analysis\n",
        "#fbprophet = Forecasting\n",
        "#plotly= data visualization\n"
      ],
      "execution_count": null,
      "outputs": []
    },
    {
      "cell_type": "code",
      "metadata": {
        "id": "tR4fFCxE8fAg"
      },
      "source": [
        "import pandas as pd\n",
        "import plotly.express as px\n",
        "from fbprophet import Prophet"
      ],
      "execution_count": null,
      "outputs": []
    },
    {
      "cell_type": "markdown",
      "metadata": {
        "id": "Q42qcrmzqUff"
      },
      "source": [
        ""
      ]
    },
    {
      "cell_type": "code",
      "metadata": {
        "id": "yK5iokzObG8b"
      },
      "source": [
        " #Initializing Plotly\n",
        " import plotly.io as pio\n",
        " pio.renderers.defualt='colab'"
      ],
      "execution_count": null,
      "outputs": []
    },
    {
      "cell_type": "markdown",
      "metadata": {
        "id": "LQr_B55bbjQ1"
      },
      "source": [
        "## Importing the Dataset & Exploring it"
      ]
    },
    {
      "cell_type": "code",
      "metadata": {
        "id": "76a6siA7bma0"
      },
      "source": [
        "df= pd.read_csv('ZM.csv')"
      ],
      "execution_count": null,
      "outputs": []
    },
    {
      "cell_type": "code",
      "metadata": {
        "id": "vezMkspZboYX"
      },
      "source": [
        "#read_csv function from pandas"
      ],
      "execution_count": null,
      "outputs": []
    },
    {
      "cell_type": "code",
      "metadata": {
        "id": "ovLUGCBzQuRd",
        "colab": {
          "base_uri": "https://localhost:8080/",
          "height": 424
        },
        "outputId": "c1a1c160-6920-4ec5-b5fd-03bd7f09c1e1"
      },
      "source": [
        "\n",
        "\n",
        "\n",
        "\n",
        "\n",
        "\n",
        "\n",
        "\n",
        "\n",
        "\n",
        "\n",
        "\n",
        "\n",
        "\n",
        "\n",
        "\n",
        "\n",
        "\n",
        "df"
      ],
      "execution_count": null,
      "outputs": [
        {
          "output_type": "execute_result",
          "data": {
            "text/html": [
              "<div>\n",
              "<style scoped>\n",
              "    .dataframe tbody tr th:only-of-type {\n",
              "        vertical-align: middle;\n",
              "    }\n",
              "\n",
              "    .dataframe tbody tr th {\n",
              "        vertical-align: top;\n",
              "    }\n",
              "\n",
              "    .dataframe thead th {\n",
              "        text-align: right;\n",
              "    }\n",
              "</style>\n",
              "<table border=\"1\" class=\"dataframe\">\n",
              "  <thead>\n",
              "    <tr style=\"text-align: right;\">\n",
              "      <th></th>\n",
              "      <th>Date</th>\n",
              "      <th>Open</th>\n",
              "      <th>High</th>\n",
              "      <th>Low</th>\n",
              "      <th>Close</th>\n",
              "      <th>Adj Close</th>\n",
              "      <th>Volume</th>\n",
              "    </tr>\n",
              "  </thead>\n",
              "  <tbody>\n",
              "    <tr>\n",
              "      <th>0</th>\n",
              "      <td>2020-11-23</td>\n",
              "      <td>432.010010</td>\n",
              "      <td>436.513000</td>\n",
              "      <td>417.880005</td>\n",
              "      <td>430.279999</td>\n",
              "      <td>430.279999</td>\n",
              "      <td>8486000</td>\n",
              "    </tr>\n",
              "    <tr>\n",
              "      <th>1</th>\n",
              "      <td>2020-11-24</td>\n",
              "      <td>421.505005</td>\n",
              "      <td>438.832001</td>\n",
              "      <td>420.010010</td>\n",
              "      <td>427.549988</td>\n",
              "      <td>427.549988</td>\n",
              "      <td>6148400</td>\n",
              "    </tr>\n",
              "    <tr>\n",
              "      <th>2</th>\n",
              "      <td>2020-11-25</td>\n",
              "      <td>435.850006</td>\n",
              "      <td>448.480011</td>\n",
              "      <td>433.329987</td>\n",
              "      <td>443.720001</td>\n",
              "      <td>443.720001</td>\n",
              "      <td>8763700</td>\n",
              "    </tr>\n",
              "    <tr>\n",
              "      <th>3</th>\n",
              "      <td>2020-11-27</td>\n",
              "      <td>453.989990</td>\n",
              "      <td>472.040009</td>\n",
              "      <td>449.000000</td>\n",
              "      <td>471.609985</td>\n",
              "      <td>471.609985</td>\n",
              "      <td>7276400</td>\n",
              "    </tr>\n",
              "    <tr>\n",
              "      <th>4</th>\n",
              "      <td>2020-11-30</td>\n",
              "      <td>485.700012</td>\n",
              "      <td>486.829987</td>\n",
              "      <td>460.000000</td>\n",
              "      <td>478.359985</td>\n",
              "      <td>478.359985</td>\n",
              "      <td>16646500</td>\n",
              "    </tr>\n",
              "    <tr>\n",
              "      <th>...</th>\n",
              "      <td>...</td>\n",
              "      <td>...</td>\n",
              "      <td>...</td>\n",
              "      <td>...</td>\n",
              "      <td>...</td>\n",
              "      <td>...</td>\n",
              "      <td>...</td>\n",
              "    </tr>\n",
              "    <tr>\n",
              "      <th>246</th>\n",
              "      <td>2021-11-15</td>\n",
              "      <td>255.000000</td>\n",
              "      <td>265.329987</td>\n",
              "      <td>255.000000</td>\n",
              "      <td>263.709991</td>\n",
              "      <td>263.709991</td>\n",
              "      <td>3994900</td>\n",
              "    </tr>\n",
              "    <tr>\n",
              "      <th>247</th>\n",
              "      <td>2021-11-16</td>\n",
              "      <td>263.000000</td>\n",
              "      <td>268.880005</td>\n",
              "      <td>261.209991</td>\n",
              "      <td>264.489990</td>\n",
              "      <td>264.489990</td>\n",
              "      <td>1972000</td>\n",
              "    </tr>\n",
              "    <tr>\n",
              "      <th>248</th>\n",
              "      <td>2021-11-17</td>\n",
              "      <td>264.000000</td>\n",
              "      <td>266.190002</td>\n",
              "      <td>261.519989</td>\n",
              "      <td>263.709991</td>\n",
              "      <td>263.709991</td>\n",
              "      <td>2417300</td>\n",
              "    </tr>\n",
              "    <tr>\n",
              "      <th>249</th>\n",
              "      <td>2021-11-18</td>\n",
              "      <td>260.880005</td>\n",
              "      <td>263.500000</td>\n",
              "      <td>254.580002</td>\n",
              "      <td>255.750000</td>\n",
              "      <td>255.750000</td>\n",
              "      <td>2353700</td>\n",
              "    </tr>\n",
              "    <tr>\n",
              "      <th>250</th>\n",
              "      <td>2021-11-19</td>\n",
              "      <td>262.239990</td>\n",
              "      <td>265.230011</td>\n",
              "      <td>249.330002</td>\n",
              "      <td>251.300003</td>\n",
              "      <td>251.300003</td>\n",
              "      <td>3877500</td>\n",
              "    </tr>\n",
              "  </tbody>\n",
              "</table>\n",
              "<p>251 rows × 7 columns</p>\n",
              "</div>"
            ],
            "text/plain": [
              "           Date        Open        High  ...       Close   Adj Close    Volume\n",
              "0    2020-11-23  432.010010  436.513000  ...  430.279999  430.279999   8486000\n",
              "1    2020-11-24  421.505005  438.832001  ...  427.549988  427.549988   6148400\n",
              "2    2020-11-25  435.850006  448.480011  ...  443.720001  443.720001   8763700\n",
              "3    2020-11-27  453.989990  472.040009  ...  471.609985  471.609985   7276400\n",
              "4    2020-11-30  485.700012  486.829987  ...  478.359985  478.359985  16646500\n",
              "..          ...         ...         ...  ...         ...         ...       ...\n",
              "246  2021-11-15  255.000000  265.329987  ...  263.709991  263.709991   3994900\n",
              "247  2021-11-16  263.000000  268.880005  ...  264.489990  264.489990   1972000\n",
              "248  2021-11-17  264.000000  266.190002  ...  263.709991  263.709991   2417300\n",
              "249  2021-11-18  260.880005  263.500000  ...  255.750000  255.750000   2353700\n",
              "250  2021-11-19  262.239990  265.230011  ...  251.300003  251.300003   3877500\n",
              "\n",
              "[251 rows x 7 columns]"
            ]
          },
          "metadata": {},
          "execution_count": 7
        }
      ]
    },
    {
      "cell_type": "code",
      "metadata": {
        "id": "qOS4gcZ4u-cw",
        "colab": {
          "base_uri": "https://localhost:8080/"
        },
        "outputId": "0b5f3251-9920-4253-d20f-47a857b38812"
      },
      "source": [
        "from google.colab import drive\n",
        "drive.mount('/content/drive')"
      ],
      "execution_count": null,
      "outputs": [
        {
          "output_type": "stream",
          "name": "stdout",
          "text": [
            "Mounted at /content/drive\n"
          ]
        }
      ]
    },
    {
      "cell_type": "code",
      "metadata": {
        "id": "GQGyTaTB8sUM",
        "colab": {
          "base_uri": "https://localhost:8080/"
        },
        "outputId": "ee25f5dd-01e0-49da-c21c-09a814958e6a"
      },
      "source": [
        "df.info()"
      ],
      "execution_count": null,
      "outputs": [
        {
          "output_type": "stream",
          "name": "stdout",
          "text": [
            "<class 'pandas.core.frame.DataFrame'>\n",
            "RangeIndex: 251 entries, 0 to 250\n",
            "Data columns (total 7 columns):\n",
            " #   Column     Non-Null Count  Dtype  \n",
            "---  ------     --------------  -----  \n",
            " 0   Date       251 non-null    object \n",
            " 1   Open       251 non-null    float64\n",
            " 2   High       251 non-null    float64\n",
            " 3   Low        251 non-null    float64\n",
            " 4   Close      251 non-null    float64\n",
            " 5   Adj Close  251 non-null    float64\n",
            " 6   Volume     251 non-null    int64  \n",
            "dtypes: float64(5), int64(1), object(1)\n",
            "memory usage: 13.9+ KB\n"
          ]
        }
      ]
    },
    {
      "cell_type": "code",
      "metadata": {
        "id": "xAifThcH8xUH",
        "colab": {
          "base_uri": "https://localhost:8080/",
          "height": 300
        },
        "outputId": "aca11e6d-4bc9-4c88-ff8e-cc01b074947a"
      },
      "source": [
        "df.describe()"
      ],
      "execution_count": null,
      "outputs": [
        {
          "output_type": "execute_result",
          "data": {
            "text/html": [
              "<div>\n",
              "<style scoped>\n",
              "    .dataframe tbody tr th:only-of-type {\n",
              "        vertical-align: middle;\n",
              "    }\n",
              "\n",
              "    .dataframe tbody tr th {\n",
              "        vertical-align: top;\n",
              "    }\n",
              "\n",
              "    .dataframe thead th {\n",
              "        text-align: right;\n",
              "    }\n",
              "</style>\n",
              "<table border=\"1\" class=\"dataframe\">\n",
              "  <thead>\n",
              "    <tr style=\"text-align: right;\">\n",
              "      <th></th>\n",
              "      <th>Open</th>\n",
              "      <th>High</th>\n",
              "      <th>Low</th>\n",
              "      <th>Close</th>\n",
              "      <th>Adj Close</th>\n",
              "      <th>Volume</th>\n",
              "    </tr>\n",
              "  </thead>\n",
              "  <tbody>\n",
              "    <tr>\n",
              "      <th>count</th>\n",
              "      <td>251.000000</td>\n",
              "      <td>251.000000</td>\n",
              "      <td>251.000000</td>\n",
              "      <td>251.000000</td>\n",
              "      <td>251.000000</td>\n",
              "      <td>2.510000e+02</td>\n",
              "    </tr>\n",
              "    <tr>\n",
              "      <th>mean</th>\n",
              "      <td>341.043212</td>\n",
              "      <td>347.616155</td>\n",
              "      <td>333.697828</td>\n",
              "      <td>340.510956</td>\n",
              "      <td>340.510956</td>\n",
              "      <td>4.428252e+06</td>\n",
              "    </tr>\n",
              "    <tr>\n",
              "      <th>std</th>\n",
              "      <td>50.327766</td>\n",
              "      <td>51.471692</td>\n",
              "      <td>48.035764</td>\n",
              "      <td>49.974935</td>\n",
              "      <td>49.974935</td>\n",
              "      <td>3.403661e+06</td>\n",
              "    </tr>\n",
              "    <tr>\n",
              "      <th>min</th>\n",
              "      <td>248.380005</td>\n",
              "      <td>253.190002</td>\n",
              "      <td>245.160004</td>\n",
              "      <td>247.600006</td>\n",
              "      <td>247.600006</td>\n",
              "      <td>1.437600e+06</td>\n",
              "    </tr>\n",
              "    <tr>\n",
              "      <th>25%</th>\n",
              "      <td>298.922500</td>\n",
              "      <td>305.479995</td>\n",
              "      <td>293.604995</td>\n",
              "      <td>300.104995</td>\n",
              "      <td>300.104995</td>\n",
              "      <td>2.593750e+06</td>\n",
              "    </tr>\n",
              "    <tr>\n",
              "      <th>50%</th>\n",
              "      <td>342.010010</td>\n",
              "      <td>347.399994</td>\n",
              "      <td>333.690002</td>\n",
              "      <td>340.809998</td>\n",
              "      <td>340.809998</td>\n",
              "      <td>3.436200e+06</td>\n",
              "    </tr>\n",
              "    <tr>\n",
              "      <th>75%</th>\n",
              "      <td>380.654999</td>\n",
              "      <td>386.559998</td>\n",
              "      <td>372.260010</td>\n",
              "      <td>378.774993</td>\n",
              "      <td>378.774993</td>\n",
              "      <td>5.006900e+06</td>\n",
              "    </tr>\n",
              "    <tr>\n",
              "      <th>max</th>\n",
              "      <td>485.700012</td>\n",
              "      <td>486.829987</td>\n",
              "      <td>460.000000</td>\n",
              "      <td>478.359985</td>\n",
              "      <td>478.359985</td>\n",
              "      <td>3.458290e+07</td>\n",
              "    </tr>\n",
              "  </tbody>\n",
              "</table>\n",
              "</div>"
            ],
            "text/plain": [
              "             Open        High         Low       Close   Adj Close        Volume\n",
              "count  251.000000  251.000000  251.000000  251.000000  251.000000  2.510000e+02\n",
              "mean   341.043212  347.616155  333.697828  340.510956  340.510956  4.428252e+06\n",
              "std     50.327766   51.471692   48.035764   49.974935   49.974935  3.403661e+06\n",
              "min    248.380005  253.190002  245.160004  247.600006  247.600006  1.437600e+06\n",
              "25%    298.922500  305.479995  293.604995  300.104995  300.104995  2.593750e+06\n",
              "50%    342.010010  347.399994  333.690002  340.809998  340.809998  3.436200e+06\n",
              "75%    380.654999  386.559998  372.260010  378.774993  378.774993  5.006900e+06\n",
              "max    485.700012  486.829987  460.000000  478.359985  478.359985  3.458290e+07"
            ]
          },
          "metadata": {},
          "execution_count": 10
        }
      ]
    },
    {
      "cell_type": "markdown",
      "metadata": {
        "id": "v3X8Z1fFb6or"
      },
      "source": [
        "# Data Visualization using plotly express- Visualizing the historical performance of Tesla"
      ]
    },
    {
      "cell_type": "code",
      "metadata": {
        "id": "2PKVDQq2ih4S"
      },
      "source": [
        "#Line graph, Area graph , box plot (Analyzing price and volume)"
      ],
      "execution_count": null,
      "outputs": []
    },
    {
      "cell_type": "code",
      "metadata": {
        "id": "sBuNquI5Qpe3",
        "colab": {
          "base_uri": "https://localhost:8080/",
          "height": 542
        },
        "outputId": "981c64ce-4980-43d1-e6cc-4a289c509cae"
      },
      "source": [
        "px.area(df, x=\"Date\", y=\"Close\")"
      ],
      "execution_count": null,
      "outputs": [
        {
          "output_type": "display_data",
          "data": {
            "text/html": [
              "<html>\n",
              "<head><meta charset=\"utf-8\" /></head>\n",
              "<body>\n",
              "    <div>\n",
              "            <script src=\"https://cdnjs.cloudflare.com/ajax/libs/mathjax/2.7.5/MathJax.js?config=TeX-AMS-MML_SVG\"></script><script type=\"text/javascript\">if (window.MathJax) {MathJax.Hub.Config({SVG: {font: \"STIX-Web\"}});}</script>\n",
              "                <script type=\"text/javascript\">window.PlotlyConfig = {MathJaxConfig: 'local'};</script>\n",
              "        <script src=\"https://cdn.plot.ly/plotly-latest.min.js\"></script>    \n",
              "            <div id=\"5177bd3b-36b0-4bfc-8b29-199ff3150050\" class=\"plotly-graph-div\" style=\"height:525px; width:100%;\"></div>\n",
              "            <script type=\"text/javascript\">\n",
              "                \n",
              "                    window.PLOTLYENV=window.PLOTLYENV || {};\n",
              "                    \n",
              "                if (document.getElementById(\"5177bd3b-36b0-4bfc-8b29-199ff3150050\")) {\n",
              "                    Plotly.newPlot(\n",
              "                        '5177bd3b-36b0-4bfc-8b29-199ff3150050',\n",
              "                        [{\"hoverlabel\": {\"namelength\": 0}, \"hovertemplate\": \"Date=%{x}<br>Close=%{y}\", \"legendgroup\": \"\", \"line\": {\"color\": \"#636efa\"}, \"mode\": \"lines\", \"name\": \"\", \"orientation\": \"v\", \"showlegend\": false, \"stackgroup\": \"1\", \"type\": \"scatter\", \"x\": [\"2020-11-23\", \"2020-11-24\", \"2020-11-25\", \"2020-11-27\", \"2020-11-30\", \"2020-12-01\", \"2020-12-02\", \"2020-12-03\", \"2020-12-04\", \"2020-12-07\", \"2020-12-08\", \"2020-12-09\", \"2020-12-10\", \"2020-12-11\", \"2020-12-14\", \"2020-12-15\", \"2020-12-16\", \"2020-12-17\", \"2020-12-18\", \"2020-12-21\", \"2020-12-22\", \"2020-12-23\", \"2020-12-24\", \"2020-12-28\", \"2020-12-29\", \"2020-12-30\", \"2020-12-31\", \"2021-01-04\", \"2021-01-05\", \"2021-01-06\", \"2021-01-07\", \"2021-01-08\", \"2021-01-11\", \"2021-01-12\", \"2021-01-13\", \"2021-01-14\", \"2021-01-15\", \"2021-01-19\", \"2021-01-20\", \"2021-01-21\", \"2021-01-22\", \"2021-01-25\", \"2021-01-26\", \"2021-01-27\", \"2021-01-28\", \"2021-01-29\", \"2021-02-01\", \"2021-02-02\", \"2021-02-03\", \"2021-02-04\", \"2021-02-05\", \"2021-02-08\", \"2021-02-09\", \"2021-02-10\", \"2021-02-11\", \"2021-02-12\", \"2021-02-16\", \"2021-02-17\", \"2021-02-18\", \"2021-02-19\", \"2021-02-22\", \"2021-02-23\", \"2021-02-24\", \"2021-02-25\", \"2021-02-26\", \"2021-03-01\", \"2021-03-02\", \"2021-03-03\", \"2021-03-04\", \"2021-03-05\", \"2021-03-08\", \"2021-03-09\", \"2021-03-10\", \"2021-03-11\", \"2021-03-12\", \"2021-03-15\", \"2021-03-16\", \"2021-03-17\", \"2021-03-18\", \"2021-03-19\", \"2021-03-22\", \"2021-03-23\", \"2021-03-24\", \"2021-03-25\", \"2021-03-26\", \"2021-03-29\", \"2021-03-30\", \"2021-03-31\", \"2021-04-01\", \"2021-04-05\", \"2021-04-06\", \"2021-04-07\", \"2021-04-08\", \"2021-04-09\", \"2021-04-12\", \"2021-04-13\", \"2021-04-14\", \"2021-04-15\", \"2021-04-16\", \"2021-04-19\", \"2021-04-20\", \"2021-04-21\", \"2021-04-22\", \"2021-04-23\", \"2021-04-26\", \"2021-04-27\", \"2021-04-28\", \"2021-04-29\", \"2021-04-30\", \"2021-05-03\", \"2021-05-04\", \"2021-05-05\", \"2021-05-06\", \"2021-05-07\", \"2021-05-10\", \"2021-05-11\", \"2021-05-12\", \"2021-05-13\", \"2021-05-14\", \"2021-05-17\", \"2021-05-18\", \"2021-05-19\", \"2021-05-20\", \"2021-05-21\", \"2021-05-24\", \"2021-05-25\", \"2021-05-26\", \"2021-05-27\", \"2021-05-28\", \"2021-06-01\", \"2021-06-02\", \"2021-06-03\", \"2021-06-04\", \"2021-06-07\", \"2021-06-08\", \"2021-06-09\", \"2021-06-10\", \"2021-06-11\", \"2021-06-14\", \"2021-06-15\", \"2021-06-16\", \"2021-06-17\", \"2021-06-18\", \"2021-06-21\", \"2021-06-22\", \"2021-06-23\", \"2021-06-24\", \"2021-06-25\", \"2021-06-28\", \"2021-06-29\", \"2021-06-30\", \"2021-07-01\", \"2021-07-02\", \"2021-07-06\", \"2021-07-07\", \"2021-07-08\", \"2021-07-09\", \"2021-07-12\", \"2021-07-13\", \"2021-07-14\", \"2021-07-15\", \"2021-07-16\", \"2021-07-19\", \"2021-07-20\", \"2021-07-21\", \"2021-07-22\", \"2021-07-23\", \"2021-07-26\", \"2021-07-27\", \"2021-07-28\", \"2021-07-29\", \"2021-07-30\", \"2021-08-02\", \"2021-08-03\", \"2021-08-04\", \"2021-08-05\", \"2021-08-06\", \"2021-08-09\", \"2021-08-10\", \"2021-08-11\", \"2021-08-12\", \"2021-08-13\", \"2021-08-16\", \"2021-08-17\", \"2021-08-18\", \"2021-08-19\", \"2021-08-20\", \"2021-08-23\", \"2021-08-24\", \"2021-08-25\", \"2021-08-26\", \"2021-08-27\", \"2021-08-30\", \"2021-08-31\", \"2021-09-01\", \"2021-09-02\", \"2021-09-03\", \"2021-09-07\", \"2021-09-08\", \"2021-09-09\", \"2021-09-10\", \"2021-09-13\", \"2021-09-14\", \"2021-09-15\", \"2021-09-16\", \"2021-09-17\", \"2021-09-20\", \"2021-09-21\", \"2021-09-22\", \"2021-09-23\", \"2021-09-24\", \"2021-09-27\", \"2021-09-28\", \"2021-09-29\", \"2021-09-30\", \"2021-10-01\", \"2021-10-04\", \"2021-10-05\", \"2021-10-06\", \"2021-10-07\", \"2021-10-08\", \"2021-10-11\", \"2021-10-12\", \"2021-10-13\", \"2021-10-14\", \"2021-10-15\", \"2021-10-18\", \"2021-10-19\", \"2021-10-20\", \"2021-10-21\", \"2021-10-22\", \"2021-10-25\", \"2021-10-26\", \"2021-10-27\", \"2021-10-28\", \"2021-10-29\", \"2021-11-01\", \"2021-11-02\", \"2021-11-03\", \"2021-11-04\", \"2021-11-05\", \"2021-11-08\", \"2021-11-09\", \"2021-11-10\", \"2021-11-11\", \"2021-11-12\", \"2021-11-15\", \"2021-11-16\", \"2021-11-17\", \"2021-11-18\", \"2021-11-19\"], \"xaxis\": \"x\", \"y\": [430.27999900000003, 427.549988, 443.72000099999997, 471.60998499999994, 478.35998499999994, 406.309998, 412.859985, 413.540009, 410.01001, 407.850006, 412.0, 385.359985, 397.959991, 397.01001, 395.98999, 399.429993, 404.0, 401.619995, 406.01001, 408.97000099999997, 409.0, 383.880005, 375.170013, 351.390015, 353.75, 353.399994, 337.320007, 359.980011, 360.829987, 344.410004, 342.5, 349.609985, 337.709991, 356.809998, 364.630005, 383.23999, 384.52999900000003, 393.869995, 382.799988, 382.809998, 383.399994, 391.829987, 374.390015, 370.73999, 378.589996, 372.070007, 381.929993, 391.839996, 380.47000099999997, 389.980011, 419.589996, 410.809998, 430.02999900000003, 431.0, 432.76998899999995, 433.10998499999994, 444.51000999999997, 429.420013, 417.910004, 417.26001, 394.339996, 388.160004, 385.230011, 364.730011, 373.609985, 409.660004, 372.790009, 341.570007, 343.089996, 337.429993, 310.929993, 342.109985, 336.02999900000003, 355.170013, 346.390015, 350.0, 335.079987, 336.649994, 316.320007, 326.26001, 328.5, 339.76001, 314.959991, 314.850006, 319.950012, 308.390015, 313.190002, 321.290009, 326.230011, 323.959991, 329.790009, 323.079987, 331.27999900000003, 322.649994, 321.51001, 342.75, 329.200012, 332.380005, 329.950012, 324.329987, 321.77999900000003, 322.76001, 328.320007, 336.880005, 336.420013, 333.48999, 331.25, 321.100006, 319.570007, 313.920013, 304.850006, 297.589996, 293.049988, 295.23999, 288.48999, 300.25, 289.700012, 290.160004, 307.890015, 308.929993, 312.859985, 310.459991, 324.709991, 316.399994, 321.559998, 321.27999900000003, 326.049988, 326.429993, 331.52999900000003, 327.72000099999997, 327.109985, 319.01001, 336.0, 342.660004, 341.26001, 333.630005, 346.5, 366.399994, 365.910004, 359.0, 361.829987, 372.950012, 374.23999, 369.25, 374.649994, 376.920013, 373.399994, 372.47000099999997, 388.859985, 394.730011, 387.02999900000003, 386.480011, 388.890015, 401.119995, 393.910004, 386.01001, 385.079987, 379.119995, 378.390015, 360.609985, 356.809998, 361.97000099999997, 354.200012, 355.809998, 352.97000099999997, 361.390015, 359.230011, 373.140015, 367.540009, 369.48999, 386.019989, 378.100006, 378.959991, 374.880005, 400.579987, 398.679993, 383.47000099999997, 383.339996, 372.549988, 358.559998, 362.859985, 355.23999, 348.410004, 345.540009, 340.929993, 332.380005, 336.859985, 341.299988, 340.25, 337.73999, 340.630005, 340.809998, 347.5, 289.5, 290.859985, 295.089996, 298.290009, 299.959991, 293.600006, 295.859985, 301.5, 290.23999, 281.440002, 279.119995, 278.22000099999997, 287.679993, 280.670013, 278.23999, 277.950012, 276.190002, 272.359985, 272.880005, 261.890015, 257.410004, 261.5, 267.51001, 259.579987, 257.119995, 253.649994, 256.269989, 255.05000299999998, 253.97000099999997, 255.49000499999997, 266.23999, 267.01001, 266.320007, 274.230011, 276.399994, 275.709991, 274.77999900000003, 277.579987, 279.790009, 278.700012, 272.809998, 276.579987, 274.649994, 278.940002, 280.290009, 285.660004, 282.200012, 264.700012, 259.899994, 258.399994, 251.25999500000003, 247.600006, 254.97000099999997, 263.709991, 264.48999, 263.709991, 255.75, 251.30000299999998], \"yaxis\": \"y\"}],\n",
              "                        {\"legend\": {\"tracegroupgap\": 0}, \"margin\": {\"t\": 60}, \"template\": {\"data\": {\"bar\": [{\"error_x\": {\"color\": \"#2a3f5f\"}, \"error_y\": {\"color\": \"#2a3f5f\"}, \"marker\": {\"line\": {\"color\": \"#E5ECF6\", \"width\": 0.5}}, \"type\": \"bar\"}], \"barpolar\": [{\"marker\": {\"line\": {\"color\": \"#E5ECF6\", \"width\": 0.5}}, \"type\": \"barpolar\"}], \"carpet\": [{\"aaxis\": {\"endlinecolor\": \"#2a3f5f\", \"gridcolor\": \"white\", \"linecolor\": \"white\", \"minorgridcolor\": \"white\", \"startlinecolor\": \"#2a3f5f\"}, \"baxis\": {\"endlinecolor\": \"#2a3f5f\", \"gridcolor\": \"white\", \"linecolor\": \"white\", \"minorgridcolor\": \"white\", \"startlinecolor\": \"#2a3f5f\"}, \"type\": \"carpet\"}], \"choropleth\": [{\"colorbar\": {\"outlinewidth\": 0, \"ticks\": \"\"}, \"type\": \"choropleth\"}], \"contour\": [{\"colorbar\": {\"outlinewidth\": 0, \"ticks\": \"\"}, \"colorscale\": [[0.0, \"#0d0887\"], [0.1111111111111111, \"#46039f\"], [0.2222222222222222, \"#7201a8\"], [0.3333333333333333, \"#9c179e\"], [0.4444444444444444, \"#bd3786\"], [0.5555555555555556, \"#d8576b\"], [0.6666666666666666, \"#ed7953\"], [0.7777777777777778, \"#fb9f3a\"], [0.8888888888888888, \"#fdca26\"], [1.0, \"#f0f921\"]], \"type\": \"contour\"}], \"contourcarpet\": [{\"colorbar\": {\"outlinewidth\": 0, \"ticks\": \"\"}, \"type\": \"contourcarpet\"}], \"heatmap\": [{\"colorbar\": {\"outlinewidth\": 0, \"ticks\": \"\"}, \"colorscale\": [[0.0, \"#0d0887\"], [0.1111111111111111, \"#46039f\"], [0.2222222222222222, \"#7201a8\"], [0.3333333333333333, \"#9c179e\"], [0.4444444444444444, \"#bd3786\"], [0.5555555555555556, \"#d8576b\"], [0.6666666666666666, \"#ed7953\"], [0.7777777777777778, \"#fb9f3a\"], [0.8888888888888888, \"#fdca26\"], [1.0, \"#f0f921\"]], \"type\": \"heatmap\"}], \"heatmapgl\": [{\"colorbar\": {\"outlinewidth\": 0, \"ticks\": \"\"}, \"colorscale\": [[0.0, \"#0d0887\"], [0.1111111111111111, \"#46039f\"], [0.2222222222222222, \"#7201a8\"], [0.3333333333333333, \"#9c179e\"], [0.4444444444444444, \"#bd3786\"], [0.5555555555555556, \"#d8576b\"], [0.6666666666666666, \"#ed7953\"], [0.7777777777777778, \"#fb9f3a\"], [0.8888888888888888, \"#fdca26\"], [1.0, \"#f0f921\"]], \"type\": \"heatmapgl\"}], \"histogram\": [{\"marker\": {\"colorbar\": {\"outlinewidth\": 0, \"ticks\": \"\"}}, \"type\": \"histogram\"}], \"histogram2d\": [{\"colorbar\": {\"outlinewidth\": 0, \"ticks\": \"\"}, \"colorscale\": [[0.0, \"#0d0887\"], [0.1111111111111111, \"#46039f\"], [0.2222222222222222, \"#7201a8\"], [0.3333333333333333, \"#9c179e\"], [0.4444444444444444, \"#bd3786\"], [0.5555555555555556, \"#d8576b\"], [0.6666666666666666, \"#ed7953\"], [0.7777777777777778, \"#fb9f3a\"], [0.8888888888888888, \"#fdca26\"], [1.0, \"#f0f921\"]], \"type\": \"histogram2d\"}], \"histogram2dcontour\": [{\"colorbar\": {\"outlinewidth\": 0, \"ticks\": \"\"}, \"colorscale\": [[0.0, \"#0d0887\"], [0.1111111111111111, \"#46039f\"], [0.2222222222222222, \"#7201a8\"], [0.3333333333333333, \"#9c179e\"], [0.4444444444444444, \"#bd3786\"], [0.5555555555555556, \"#d8576b\"], [0.6666666666666666, \"#ed7953\"], [0.7777777777777778, \"#fb9f3a\"], [0.8888888888888888, \"#fdca26\"], [1.0, \"#f0f921\"]], \"type\": \"histogram2dcontour\"}], \"mesh3d\": [{\"colorbar\": {\"outlinewidth\": 0, \"ticks\": \"\"}, \"type\": \"mesh3d\"}], \"parcoords\": [{\"line\": {\"colorbar\": {\"outlinewidth\": 0, \"ticks\": \"\"}}, \"type\": \"parcoords\"}], \"pie\": [{\"automargin\": true, \"type\": \"pie\"}], \"scatter\": [{\"marker\": {\"colorbar\": {\"outlinewidth\": 0, \"ticks\": \"\"}}, \"type\": \"scatter\"}], \"scatter3d\": [{\"line\": {\"colorbar\": {\"outlinewidth\": 0, \"ticks\": \"\"}}, \"marker\": {\"colorbar\": {\"outlinewidth\": 0, \"ticks\": \"\"}}, \"type\": \"scatter3d\"}], \"scattercarpet\": [{\"marker\": {\"colorbar\": {\"outlinewidth\": 0, \"ticks\": \"\"}}, \"type\": \"scattercarpet\"}], \"scattergeo\": [{\"marker\": {\"colorbar\": {\"outlinewidth\": 0, \"ticks\": \"\"}}, \"type\": \"scattergeo\"}], \"scattergl\": [{\"marker\": {\"colorbar\": {\"outlinewidth\": 0, \"ticks\": \"\"}}, \"type\": \"scattergl\"}], \"scattermapbox\": [{\"marker\": {\"colorbar\": {\"outlinewidth\": 0, \"ticks\": \"\"}}, \"type\": \"scattermapbox\"}], \"scatterpolar\": [{\"marker\": {\"colorbar\": {\"outlinewidth\": 0, \"ticks\": \"\"}}, \"type\": \"scatterpolar\"}], \"scatterpolargl\": [{\"marker\": {\"colorbar\": {\"outlinewidth\": 0, \"ticks\": \"\"}}, \"type\": \"scatterpolargl\"}], \"scatterternary\": [{\"marker\": {\"colorbar\": {\"outlinewidth\": 0, \"ticks\": \"\"}}, \"type\": \"scatterternary\"}], \"surface\": [{\"colorbar\": {\"outlinewidth\": 0, \"ticks\": \"\"}, \"colorscale\": [[0.0, \"#0d0887\"], [0.1111111111111111, \"#46039f\"], [0.2222222222222222, \"#7201a8\"], [0.3333333333333333, \"#9c179e\"], [0.4444444444444444, \"#bd3786\"], [0.5555555555555556, \"#d8576b\"], [0.6666666666666666, \"#ed7953\"], [0.7777777777777778, \"#fb9f3a\"], [0.8888888888888888, \"#fdca26\"], [1.0, \"#f0f921\"]], \"type\": \"surface\"}], \"table\": [{\"cells\": {\"fill\": {\"color\": \"#EBF0F8\"}, \"line\": {\"color\": \"white\"}}, \"header\": {\"fill\": {\"color\": \"#C8D4E3\"}, \"line\": {\"color\": \"white\"}}, \"type\": \"table\"}]}, \"layout\": {\"annotationdefaults\": {\"arrowcolor\": \"#2a3f5f\", \"arrowhead\": 0, \"arrowwidth\": 1}, \"coloraxis\": {\"colorbar\": {\"outlinewidth\": 0, \"ticks\": \"\"}}, \"colorscale\": {\"diverging\": [[0, \"#8e0152\"], [0.1, \"#c51b7d\"], [0.2, \"#de77ae\"], [0.3, \"#f1b6da\"], [0.4, \"#fde0ef\"], [0.5, \"#f7f7f7\"], [0.6, \"#e6f5d0\"], [0.7, \"#b8e186\"], [0.8, \"#7fbc41\"], [0.9, \"#4d9221\"], [1, \"#276419\"]], \"sequential\": [[0.0, \"#0d0887\"], [0.1111111111111111, \"#46039f\"], [0.2222222222222222, \"#7201a8\"], [0.3333333333333333, \"#9c179e\"], [0.4444444444444444, \"#bd3786\"], [0.5555555555555556, \"#d8576b\"], [0.6666666666666666, \"#ed7953\"], [0.7777777777777778, \"#fb9f3a\"], [0.8888888888888888, \"#fdca26\"], [1.0, \"#f0f921\"]], \"sequentialminus\": [[0.0, \"#0d0887\"], [0.1111111111111111, \"#46039f\"], [0.2222222222222222, \"#7201a8\"], [0.3333333333333333, \"#9c179e\"], [0.4444444444444444, \"#bd3786\"], [0.5555555555555556, \"#d8576b\"], [0.6666666666666666, \"#ed7953\"], [0.7777777777777778, \"#fb9f3a\"], [0.8888888888888888, \"#fdca26\"], [1.0, \"#f0f921\"]]}, \"colorway\": [\"#636efa\", \"#EF553B\", \"#00cc96\", \"#ab63fa\", \"#FFA15A\", \"#19d3f3\", \"#FF6692\", \"#B6E880\", \"#FF97FF\", \"#FECB52\"], \"font\": {\"color\": \"#2a3f5f\"}, \"geo\": {\"bgcolor\": \"white\", \"lakecolor\": \"white\", \"landcolor\": \"#E5ECF6\", \"showlakes\": true, \"showland\": true, \"subunitcolor\": \"white\"}, \"hoverlabel\": {\"align\": \"left\"}, \"hovermode\": \"closest\", \"mapbox\": {\"style\": \"light\"}, \"paper_bgcolor\": \"white\", \"plot_bgcolor\": \"#E5ECF6\", \"polar\": {\"angularaxis\": {\"gridcolor\": \"white\", \"linecolor\": \"white\", \"ticks\": \"\"}, \"bgcolor\": \"#E5ECF6\", \"radialaxis\": {\"gridcolor\": \"white\", \"linecolor\": \"white\", \"ticks\": \"\"}}, \"scene\": {\"xaxis\": {\"backgroundcolor\": \"#E5ECF6\", \"gridcolor\": \"white\", \"gridwidth\": 2, \"linecolor\": \"white\", \"showbackground\": true, \"ticks\": \"\", \"zerolinecolor\": \"white\"}, \"yaxis\": {\"backgroundcolor\": \"#E5ECF6\", \"gridcolor\": \"white\", \"gridwidth\": 2, \"linecolor\": \"white\", \"showbackground\": true, \"ticks\": \"\", \"zerolinecolor\": \"white\"}, \"zaxis\": {\"backgroundcolor\": \"#E5ECF6\", \"gridcolor\": \"white\", \"gridwidth\": 2, \"linecolor\": \"white\", \"showbackground\": true, \"ticks\": \"\", \"zerolinecolor\": \"white\"}}, \"shapedefaults\": {\"line\": {\"color\": \"#2a3f5f\"}}, \"ternary\": {\"aaxis\": {\"gridcolor\": \"white\", \"linecolor\": \"white\", \"ticks\": \"\"}, \"baxis\": {\"gridcolor\": \"white\", \"linecolor\": \"white\", \"ticks\": \"\"}, \"bgcolor\": \"#E5ECF6\", \"caxis\": {\"gridcolor\": \"white\", \"linecolor\": \"white\", \"ticks\": \"\"}}, \"title\": {\"x\": 0.05}, \"xaxis\": {\"automargin\": true, \"gridcolor\": \"white\", \"linecolor\": \"white\", \"ticks\": \"\", \"title\": {\"standoff\": 15}, \"zerolinecolor\": \"white\", \"zerolinewidth\": 2}, \"yaxis\": {\"automargin\": true, \"gridcolor\": \"white\", \"linecolor\": \"white\", \"ticks\": \"\", \"title\": {\"standoff\": 15}, \"zerolinecolor\": \"white\", \"zerolinewidth\": 2}}}, \"xaxis\": {\"anchor\": \"y\", \"domain\": [0.0, 1.0], \"title\": {\"text\": \"Date\"}}, \"yaxis\": {\"anchor\": \"x\", \"domain\": [0.0, 1.0], \"title\": {\"text\": \"Close\"}}},\n",
              "                        {\"responsive\": true}\n",
              "                    ).then(function(){\n",
              "                            \n",
              "var gd = document.getElementById('5177bd3b-36b0-4bfc-8b29-199ff3150050');\n",
              "var x = new MutationObserver(function (mutations, observer) {{\n",
              "        var display = window.getComputedStyle(gd).display;\n",
              "        if (!display || display === 'none') {{\n",
              "            console.log([gd, 'removed!']);\n",
              "            Plotly.purge(gd);\n",
              "            observer.disconnect();\n",
              "        }}\n",
              "}});\n",
              "\n",
              "// Listen for the removal of the full notebook cells\n",
              "var notebookContainer = gd.closest('#notebook-container');\n",
              "if (notebookContainer) {{\n",
              "    x.observe(notebookContainer, {childList: true});\n",
              "}}\n",
              "\n",
              "// Listen for the clearing of the current output cell\n",
              "var outputEl = gd.closest('.output');\n",
              "if (outputEl) {{\n",
              "    x.observe(outputEl, {childList: true});\n",
              "}}\n",
              "\n",
              "                        })\n",
              "                };\n",
              "                \n",
              "            </script>\n",
              "        </div>\n",
              "</body>\n",
              "</html>"
            ]
          },
          "metadata": {}
        }
      ]
    },
    {
      "cell_type": "code",
      "metadata": {
        "id": "cGGyP1yFts90",
        "colab": {
          "base_uri": "https://localhost:8080/",
          "height": 542
        },
        "outputId": "32b4afdc-d225-432d-8a96-a1c22a200bf1"
      },
      "source": [
        "px.line(df, x=\"Date\", y=\"Close\")"
      ],
      "execution_count": null,
      "outputs": [
        {
          "output_type": "display_data",
          "data": {
            "text/html": [
              "<html>\n",
              "<head><meta charset=\"utf-8\" /></head>\n",
              "<body>\n",
              "    <div>\n",
              "            <script src=\"https://cdnjs.cloudflare.com/ajax/libs/mathjax/2.7.5/MathJax.js?config=TeX-AMS-MML_SVG\"></script><script type=\"text/javascript\">if (window.MathJax) {MathJax.Hub.Config({SVG: {font: \"STIX-Web\"}});}</script>\n",
              "                <script type=\"text/javascript\">window.PlotlyConfig = {MathJaxConfig: 'local'};</script>\n",
              "        <script src=\"https://cdn.plot.ly/plotly-latest.min.js\"></script>    \n",
              "            <div id=\"d5796d98-ace9-4b68-a864-3a1b3a79d856\" class=\"plotly-graph-div\" style=\"height:525px; width:100%;\"></div>\n",
              "            <script type=\"text/javascript\">\n",
              "                \n",
              "                    window.PLOTLYENV=window.PLOTLYENV || {};\n",
              "                    \n",
              "                if (document.getElementById(\"d5796d98-ace9-4b68-a864-3a1b3a79d856\")) {\n",
              "                    Plotly.newPlot(\n",
              "                        'd5796d98-ace9-4b68-a864-3a1b3a79d856',\n",
              "                        [{\"hoverlabel\": {\"namelength\": 0}, \"hovertemplate\": \"Date=%{x}<br>Close=%{y}\", \"legendgroup\": \"\", \"line\": {\"color\": \"#636efa\", \"dash\": \"solid\"}, \"mode\": \"lines\", \"name\": \"\", \"showlegend\": false, \"type\": \"scatter\", \"x\": [\"2020-11-23\", \"2020-11-24\", \"2020-11-25\", \"2020-11-27\", \"2020-11-30\", \"2020-12-01\", \"2020-12-02\", \"2020-12-03\", \"2020-12-04\", \"2020-12-07\", \"2020-12-08\", \"2020-12-09\", \"2020-12-10\", \"2020-12-11\", \"2020-12-14\", \"2020-12-15\", \"2020-12-16\", \"2020-12-17\", \"2020-12-18\", \"2020-12-21\", \"2020-12-22\", \"2020-12-23\", \"2020-12-24\", \"2020-12-28\", \"2020-12-29\", \"2020-12-30\", \"2020-12-31\", \"2021-01-04\", \"2021-01-05\", \"2021-01-06\", \"2021-01-07\", \"2021-01-08\", \"2021-01-11\", \"2021-01-12\", \"2021-01-13\", \"2021-01-14\", \"2021-01-15\", \"2021-01-19\", \"2021-01-20\", \"2021-01-21\", \"2021-01-22\", \"2021-01-25\", \"2021-01-26\", \"2021-01-27\", \"2021-01-28\", \"2021-01-29\", \"2021-02-01\", \"2021-02-02\", \"2021-02-03\", \"2021-02-04\", \"2021-02-05\", \"2021-02-08\", \"2021-02-09\", \"2021-02-10\", \"2021-02-11\", \"2021-02-12\", \"2021-02-16\", \"2021-02-17\", \"2021-02-18\", \"2021-02-19\", \"2021-02-22\", \"2021-02-23\", \"2021-02-24\", \"2021-02-25\", \"2021-02-26\", \"2021-03-01\", \"2021-03-02\", \"2021-03-03\", \"2021-03-04\", \"2021-03-05\", \"2021-03-08\", \"2021-03-09\", \"2021-03-10\", \"2021-03-11\", \"2021-03-12\", \"2021-03-15\", \"2021-03-16\", \"2021-03-17\", \"2021-03-18\", \"2021-03-19\", \"2021-03-22\", \"2021-03-23\", \"2021-03-24\", \"2021-03-25\", \"2021-03-26\", \"2021-03-29\", \"2021-03-30\", \"2021-03-31\", \"2021-04-01\", \"2021-04-05\", \"2021-04-06\", \"2021-04-07\", \"2021-04-08\", \"2021-04-09\", \"2021-04-12\", \"2021-04-13\", \"2021-04-14\", \"2021-04-15\", \"2021-04-16\", \"2021-04-19\", \"2021-04-20\", \"2021-04-21\", \"2021-04-22\", \"2021-04-23\", \"2021-04-26\", \"2021-04-27\", \"2021-04-28\", \"2021-04-29\", \"2021-04-30\", \"2021-05-03\", \"2021-05-04\", \"2021-05-05\", \"2021-05-06\", \"2021-05-07\", \"2021-05-10\", \"2021-05-11\", \"2021-05-12\", \"2021-05-13\", \"2021-05-14\", \"2021-05-17\", \"2021-05-18\", \"2021-05-19\", \"2021-05-20\", \"2021-05-21\", \"2021-05-24\", \"2021-05-25\", \"2021-05-26\", \"2021-05-27\", \"2021-05-28\", \"2021-06-01\", \"2021-06-02\", \"2021-06-03\", \"2021-06-04\", \"2021-06-07\", \"2021-06-08\", \"2021-06-09\", \"2021-06-10\", \"2021-06-11\", \"2021-06-14\", \"2021-06-15\", \"2021-06-16\", \"2021-06-17\", \"2021-06-18\", \"2021-06-21\", \"2021-06-22\", \"2021-06-23\", \"2021-06-24\", \"2021-06-25\", \"2021-06-28\", \"2021-06-29\", \"2021-06-30\", \"2021-07-01\", \"2021-07-02\", \"2021-07-06\", \"2021-07-07\", \"2021-07-08\", \"2021-07-09\", \"2021-07-12\", \"2021-07-13\", \"2021-07-14\", \"2021-07-15\", \"2021-07-16\", \"2021-07-19\", \"2021-07-20\", \"2021-07-21\", \"2021-07-22\", \"2021-07-23\", \"2021-07-26\", \"2021-07-27\", \"2021-07-28\", \"2021-07-29\", \"2021-07-30\", \"2021-08-02\", \"2021-08-03\", \"2021-08-04\", \"2021-08-05\", \"2021-08-06\", \"2021-08-09\", \"2021-08-10\", \"2021-08-11\", \"2021-08-12\", \"2021-08-13\", \"2021-08-16\", \"2021-08-17\", \"2021-08-18\", \"2021-08-19\", \"2021-08-20\", \"2021-08-23\", \"2021-08-24\", \"2021-08-25\", \"2021-08-26\", \"2021-08-27\", \"2021-08-30\", \"2021-08-31\", \"2021-09-01\", \"2021-09-02\", \"2021-09-03\", \"2021-09-07\", \"2021-09-08\", \"2021-09-09\", \"2021-09-10\", \"2021-09-13\", \"2021-09-14\", \"2021-09-15\", \"2021-09-16\", \"2021-09-17\", \"2021-09-20\", \"2021-09-21\", \"2021-09-22\", \"2021-09-23\", \"2021-09-24\", \"2021-09-27\", \"2021-09-28\", \"2021-09-29\", \"2021-09-30\", \"2021-10-01\", \"2021-10-04\", \"2021-10-05\", \"2021-10-06\", \"2021-10-07\", \"2021-10-08\", \"2021-10-11\", \"2021-10-12\", \"2021-10-13\", \"2021-10-14\", \"2021-10-15\", \"2021-10-18\", \"2021-10-19\", \"2021-10-20\", \"2021-10-21\", \"2021-10-22\", \"2021-10-25\", \"2021-10-26\", \"2021-10-27\", \"2021-10-28\", \"2021-10-29\", \"2021-11-01\", \"2021-11-02\", \"2021-11-03\", \"2021-11-04\", \"2021-11-05\", \"2021-11-08\", \"2021-11-09\", \"2021-11-10\", \"2021-11-11\", \"2021-11-12\", \"2021-11-15\", \"2021-11-16\", \"2021-11-17\", \"2021-11-18\", \"2021-11-19\"], \"xaxis\": \"x\", \"y\": [430.27999900000003, 427.549988, 443.72000099999997, 471.60998499999994, 478.35998499999994, 406.309998, 412.859985, 413.540009, 410.01001, 407.850006, 412.0, 385.359985, 397.959991, 397.01001, 395.98999, 399.429993, 404.0, 401.619995, 406.01001, 408.97000099999997, 409.0, 383.880005, 375.170013, 351.390015, 353.75, 353.399994, 337.320007, 359.980011, 360.829987, 344.410004, 342.5, 349.609985, 337.709991, 356.809998, 364.630005, 383.23999, 384.52999900000003, 393.869995, 382.799988, 382.809998, 383.399994, 391.829987, 374.390015, 370.73999, 378.589996, 372.070007, 381.929993, 391.839996, 380.47000099999997, 389.980011, 419.589996, 410.809998, 430.02999900000003, 431.0, 432.76998899999995, 433.10998499999994, 444.51000999999997, 429.420013, 417.910004, 417.26001, 394.339996, 388.160004, 385.230011, 364.730011, 373.609985, 409.660004, 372.790009, 341.570007, 343.089996, 337.429993, 310.929993, 342.109985, 336.02999900000003, 355.170013, 346.390015, 350.0, 335.079987, 336.649994, 316.320007, 326.26001, 328.5, 339.76001, 314.959991, 314.850006, 319.950012, 308.390015, 313.190002, 321.290009, 326.230011, 323.959991, 329.790009, 323.079987, 331.27999900000003, 322.649994, 321.51001, 342.75, 329.200012, 332.380005, 329.950012, 324.329987, 321.77999900000003, 322.76001, 328.320007, 336.880005, 336.420013, 333.48999, 331.25, 321.100006, 319.570007, 313.920013, 304.850006, 297.589996, 293.049988, 295.23999, 288.48999, 300.25, 289.700012, 290.160004, 307.890015, 308.929993, 312.859985, 310.459991, 324.709991, 316.399994, 321.559998, 321.27999900000003, 326.049988, 326.429993, 331.52999900000003, 327.72000099999997, 327.109985, 319.01001, 336.0, 342.660004, 341.26001, 333.630005, 346.5, 366.399994, 365.910004, 359.0, 361.829987, 372.950012, 374.23999, 369.25, 374.649994, 376.920013, 373.399994, 372.47000099999997, 388.859985, 394.730011, 387.02999900000003, 386.480011, 388.890015, 401.119995, 393.910004, 386.01001, 385.079987, 379.119995, 378.390015, 360.609985, 356.809998, 361.97000099999997, 354.200012, 355.809998, 352.97000099999997, 361.390015, 359.230011, 373.140015, 367.540009, 369.48999, 386.019989, 378.100006, 378.959991, 374.880005, 400.579987, 398.679993, 383.47000099999997, 383.339996, 372.549988, 358.559998, 362.859985, 355.23999, 348.410004, 345.540009, 340.929993, 332.380005, 336.859985, 341.299988, 340.25, 337.73999, 340.630005, 340.809998, 347.5, 289.5, 290.859985, 295.089996, 298.290009, 299.959991, 293.600006, 295.859985, 301.5, 290.23999, 281.440002, 279.119995, 278.22000099999997, 287.679993, 280.670013, 278.23999, 277.950012, 276.190002, 272.359985, 272.880005, 261.890015, 257.410004, 261.5, 267.51001, 259.579987, 257.119995, 253.649994, 256.269989, 255.05000299999998, 253.97000099999997, 255.49000499999997, 266.23999, 267.01001, 266.320007, 274.230011, 276.399994, 275.709991, 274.77999900000003, 277.579987, 279.790009, 278.700012, 272.809998, 276.579987, 274.649994, 278.940002, 280.290009, 285.660004, 282.200012, 264.700012, 259.899994, 258.399994, 251.25999500000003, 247.600006, 254.97000099999997, 263.709991, 264.48999, 263.709991, 255.75, 251.30000299999998], \"yaxis\": \"y\"}],\n",
              "                        {\"legend\": {\"tracegroupgap\": 0}, \"margin\": {\"t\": 60}, \"template\": {\"data\": {\"bar\": [{\"error_x\": {\"color\": \"#2a3f5f\"}, \"error_y\": {\"color\": \"#2a3f5f\"}, \"marker\": {\"line\": {\"color\": \"#E5ECF6\", \"width\": 0.5}}, \"type\": \"bar\"}], \"barpolar\": [{\"marker\": {\"line\": {\"color\": \"#E5ECF6\", \"width\": 0.5}}, \"type\": \"barpolar\"}], \"carpet\": [{\"aaxis\": {\"endlinecolor\": \"#2a3f5f\", \"gridcolor\": \"white\", \"linecolor\": \"white\", \"minorgridcolor\": \"white\", \"startlinecolor\": \"#2a3f5f\"}, \"baxis\": {\"endlinecolor\": \"#2a3f5f\", \"gridcolor\": \"white\", \"linecolor\": \"white\", \"minorgridcolor\": \"white\", \"startlinecolor\": \"#2a3f5f\"}, \"type\": \"carpet\"}], \"choropleth\": [{\"colorbar\": {\"outlinewidth\": 0, \"ticks\": \"\"}, \"type\": \"choropleth\"}], \"contour\": [{\"colorbar\": {\"outlinewidth\": 0, \"ticks\": \"\"}, \"colorscale\": [[0.0, \"#0d0887\"], [0.1111111111111111, \"#46039f\"], [0.2222222222222222, \"#7201a8\"], [0.3333333333333333, \"#9c179e\"], [0.4444444444444444, \"#bd3786\"], [0.5555555555555556, \"#d8576b\"], [0.6666666666666666, \"#ed7953\"], [0.7777777777777778, \"#fb9f3a\"], [0.8888888888888888, \"#fdca26\"], [1.0, \"#f0f921\"]], \"type\": \"contour\"}], \"contourcarpet\": [{\"colorbar\": {\"outlinewidth\": 0, \"ticks\": \"\"}, \"type\": \"contourcarpet\"}], \"heatmap\": [{\"colorbar\": {\"outlinewidth\": 0, \"ticks\": \"\"}, \"colorscale\": [[0.0, \"#0d0887\"], [0.1111111111111111, \"#46039f\"], [0.2222222222222222, \"#7201a8\"], [0.3333333333333333, \"#9c179e\"], [0.4444444444444444, \"#bd3786\"], [0.5555555555555556, \"#d8576b\"], [0.6666666666666666, \"#ed7953\"], [0.7777777777777778, \"#fb9f3a\"], [0.8888888888888888, \"#fdca26\"], [1.0, \"#f0f921\"]], \"type\": \"heatmap\"}], \"heatmapgl\": [{\"colorbar\": {\"outlinewidth\": 0, \"ticks\": \"\"}, \"colorscale\": [[0.0, \"#0d0887\"], [0.1111111111111111, \"#46039f\"], [0.2222222222222222, \"#7201a8\"], [0.3333333333333333, \"#9c179e\"], [0.4444444444444444, \"#bd3786\"], [0.5555555555555556, \"#d8576b\"], [0.6666666666666666, \"#ed7953\"], [0.7777777777777778, \"#fb9f3a\"], [0.8888888888888888, \"#fdca26\"], [1.0, \"#f0f921\"]], \"type\": \"heatmapgl\"}], \"histogram\": [{\"marker\": {\"colorbar\": {\"outlinewidth\": 0, \"ticks\": \"\"}}, \"type\": \"histogram\"}], \"histogram2d\": [{\"colorbar\": {\"outlinewidth\": 0, \"ticks\": \"\"}, \"colorscale\": [[0.0, \"#0d0887\"], [0.1111111111111111, \"#46039f\"], [0.2222222222222222, \"#7201a8\"], [0.3333333333333333, \"#9c179e\"], [0.4444444444444444, \"#bd3786\"], [0.5555555555555556, \"#d8576b\"], [0.6666666666666666, \"#ed7953\"], [0.7777777777777778, \"#fb9f3a\"], [0.8888888888888888, \"#fdca26\"], [1.0, \"#f0f921\"]], \"type\": \"histogram2d\"}], \"histogram2dcontour\": [{\"colorbar\": {\"outlinewidth\": 0, \"ticks\": \"\"}, \"colorscale\": [[0.0, \"#0d0887\"], [0.1111111111111111, \"#46039f\"], [0.2222222222222222, \"#7201a8\"], [0.3333333333333333, \"#9c179e\"], [0.4444444444444444, \"#bd3786\"], [0.5555555555555556, \"#d8576b\"], [0.6666666666666666, \"#ed7953\"], [0.7777777777777778, \"#fb9f3a\"], [0.8888888888888888, \"#fdca26\"], [1.0, \"#f0f921\"]], \"type\": \"histogram2dcontour\"}], \"mesh3d\": [{\"colorbar\": {\"outlinewidth\": 0, \"ticks\": \"\"}, \"type\": \"mesh3d\"}], \"parcoords\": [{\"line\": {\"colorbar\": {\"outlinewidth\": 0, \"ticks\": \"\"}}, \"type\": \"parcoords\"}], \"pie\": [{\"automargin\": true, \"type\": \"pie\"}], \"scatter\": [{\"marker\": {\"colorbar\": {\"outlinewidth\": 0, \"ticks\": \"\"}}, \"type\": \"scatter\"}], \"scatter3d\": [{\"line\": {\"colorbar\": {\"outlinewidth\": 0, \"ticks\": \"\"}}, \"marker\": {\"colorbar\": {\"outlinewidth\": 0, \"ticks\": \"\"}}, \"type\": \"scatter3d\"}], \"scattercarpet\": [{\"marker\": {\"colorbar\": {\"outlinewidth\": 0, \"ticks\": \"\"}}, \"type\": \"scattercarpet\"}], \"scattergeo\": [{\"marker\": {\"colorbar\": {\"outlinewidth\": 0, \"ticks\": \"\"}}, \"type\": \"scattergeo\"}], \"scattergl\": [{\"marker\": {\"colorbar\": {\"outlinewidth\": 0, \"ticks\": \"\"}}, \"type\": \"scattergl\"}], \"scattermapbox\": [{\"marker\": {\"colorbar\": {\"outlinewidth\": 0, \"ticks\": \"\"}}, \"type\": \"scattermapbox\"}], \"scatterpolar\": [{\"marker\": {\"colorbar\": {\"outlinewidth\": 0, \"ticks\": \"\"}}, \"type\": \"scatterpolar\"}], \"scatterpolargl\": [{\"marker\": {\"colorbar\": {\"outlinewidth\": 0, \"ticks\": \"\"}}, \"type\": \"scatterpolargl\"}], \"scatterternary\": [{\"marker\": {\"colorbar\": {\"outlinewidth\": 0, \"ticks\": \"\"}}, \"type\": \"scatterternary\"}], \"surface\": [{\"colorbar\": {\"outlinewidth\": 0, \"ticks\": \"\"}, \"colorscale\": [[0.0, \"#0d0887\"], [0.1111111111111111, \"#46039f\"], [0.2222222222222222, \"#7201a8\"], [0.3333333333333333, \"#9c179e\"], [0.4444444444444444, \"#bd3786\"], [0.5555555555555556, \"#d8576b\"], [0.6666666666666666, \"#ed7953\"], [0.7777777777777778, \"#fb9f3a\"], [0.8888888888888888, \"#fdca26\"], [1.0, \"#f0f921\"]], \"type\": \"surface\"}], \"table\": [{\"cells\": {\"fill\": {\"color\": \"#EBF0F8\"}, \"line\": {\"color\": \"white\"}}, \"header\": {\"fill\": {\"color\": \"#C8D4E3\"}, \"line\": {\"color\": \"white\"}}, \"type\": \"table\"}]}, \"layout\": {\"annotationdefaults\": {\"arrowcolor\": \"#2a3f5f\", \"arrowhead\": 0, \"arrowwidth\": 1}, \"coloraxis\": {\"colorbar\": {\"outlinewidth\": 0, \"ticks\": \"\"}}, \"colorscale\": {\"diverging\": [[0, \"#8e0152\"], [0.1, \"#c51b7d\"], [0.2, \"#de77ae\"], [0.3, \"#f1b6da\"], [0.4, \"#fde0ef\"], [0.5, \"#f7f7f7\"], [0.6, \"#e6f5d0\"], [0.7, \"#b8e186\"], [0.8, \"#7fbc41\"], [0.9, \"#4d9221\"], [1, \"#276419\"]], \"sequential\": [[0.0, \"#0d0887\"], [0.1111111111111111, \"#46039f\"], [0.2222222222222222, \"#7201a8\"], [0.3333333333333333, \"#9c179e\"], [0.4444444444444444, \"#bd3786\"], [0.5555555555555556, \"#d8576b\"], [0.6666666666666666, \"#ed7953\"], [0.7777777777777778, \"#fb9f3a\"], [0.8888888888888888, \"#fdca26\"], [1.0, \"#f0f921\"]], \"sequentialminus\": [[0.0, \"#0d0887\"], [0.1111111111111111, \"#46039f\"], [0.2222222222222222, \"#7201a8\"], [0.3333333333333333, \"#9c179e\"], [0.4444444444444444, \"#bd3786\"], [0.5555555555555556, \"#d8576b\"], [0.6666666666666666, \"#ed7953\"], [0.7777777777777778, \"#fb9f3a\"], [0.8888888888888888, \"#fdca26\"], [1.0, \"#f0f921\"]]}, \"colorway\": [\"#636efa\", \"#EF553B\", \"#00cc96\", \"#ab63fa\", \"#FFA15A\", \"#19d3f3\", \"#FF6692\", \"#B6E880\", \"#FF97FF\", \"#FECB52\"], \"font\": {\"color\": \"#2a3f5f\"}, \"geo\": {\"bgcolor\": \"white\", \"lakecolor\": \"white\", \"landcolor\": \"#E5ECF6\", \"showlakes\": true, \"showland\": true, \"subunitcolor\": \"white\"}, \"hoverlabel\": {\"align\": \"left\"}, \"hovermode\": \"closest\", \"mapbox\": {\"style\": \"light\"}, \"paper_bgcolor\": \"white\", \"plot_bgcolor\": \"#E5ECF6\", \"polar\": {\"angularaxis\": {\"gridcolor\": \"white\", \"linecolor\": \"white\", \"ticks\": \"\"}, \"bgcolor\": \"#E5ECF6\", \"radialaxis\": {\"gridcolor\": \"white\", \"linecolor\": \"white\", \"ticks\": \"\"}}, \"scene\": {\"xaxis\": {\"backgroundcolor\": \"#E5ECF6\", \"gridcolor\": \"white\", \"gridwidth\": 2, \"linecolor\": \"white\", \"showbackground\": true, \"ticks\": \"\", \"zerolinecolor\": \"white\"}, \"yaxis\": {\"backgroundcolor\": \"#E5ECF6\", \"gridcolor\": \"white\", \"gridwidth\": 2, \"linecolor\": \"white\", \"showbackground\": true, \"ticks\": \"\", \"zerolinecolor\": \"white\"}, \"zaxis\": {\"backgroundcolor\": \"#E5ECF6\", \"gridcolor\": \"white\", \"gridwidth\": 2, \"linecolor\": \"white\", \"showbackground\": true, \"ticks\": \"\", \"zerolinecolor\": \"white\"}}, \"shapedefaults\": {\"line\": {\"color\": \"#2a3f5f\"}}, \"ternary\": {\"aaxis\": {\"gridcolor\": \"white\", \"linecolor\": \"white\", \"ticks\": \"\"}, \"baxis\": {\"gridcolor\": \"white\", \"linecolor\": \"white\", \"ticks\": \"\"}, \"bgcolor\": \"#E5ECF6\", \"caxis\": {\"gridcolor\": \"white\", \"linecolor\": \"white\", \"ticks\": \"\"}}, \"title\": {\"x\": 0.05}, \"xaxis\": {\"automargin\": true, \"gridcolor\": \"white\", \"linecolor\": \"white\", \"ticks\": \"\", \"title\": {\"standoff\": 15}, \"zerolinecolor\": \"white\", \"zerolinewidth\": 2}, \"yaxis\": {\"automargin\": true, \"gridcolor\": \"white\", \"linecolor\": \"white\", \"ticks\": \"\", \"title\": {\"standoff\": 15}, \"zerolinecolor\": \"white\", \"zerolinewidth\": 2}}}, \"xaxis\": {\"anchor\": \"y\", \"domain\": [0.0, 1.0], \"title\": {\"text\": \"Date\"}}, \"yaxis\": {\"anchor\": \"x\", \"domain\": [0.0, 1.0], \"title\": {\"text\": \"Close\"}}},\n",
              "                        {\"responsive\": true}\n",
              "                    ).then(function(){\n",
              "                            \n",
              "var gd = document.getElementById('d5796d98-ace9-4b68-a864-3a1b3a79d856');\n",
              "var x = new MutationObserver(function (mutations, observer) {{\n",
              "        var display = window.getComputedStyle(gd).display;\n",
              "        if (!display || display === 'none') {{\n",
              "            console.log([gd, 'removed!']);\n",
              "            Plotly.purge(gd);\n",
              "            observer.disconnect();\n",
              "        }}\n",
              "}});\n",
              "\n",
              "// Listen for the removal of the full notebook cells\n",
              "var notebookContainer = gd.closest('#notebook-container');\n",
              "if (notebookContainer) {{\n",
              "    x.observe(notebookContainer, {childList: true});\n",
              "}}\n",
              "\n",
              "// Listen for the clearing of the current output cell\n",
              "var outputEl = gd.closest('.output');\n",
              "if (outputEl) {{\n",
              "    x.observe(outputEl, {childList: true});\n",
              "}}\n",
              "\n",
              "                        })\n",
              "                };\n",
              "                \n",
              "            </script>\n",
              "        </div>\n",
              "</body>\n",
              "</html>"
            ]
          },
          "metadata": {}
        }
      ]
    },
    {
      "cell_type": "code",
      "metadata": {
        "id": "Jnw9IoV1ttEI",
        "colab": {
          "base_uri": "https://localhost:8080/",
          "height": 542
        },
        "outputId": "bb4325fe-2cbb-463d-9a6e-c89049f67d10"
      },
      "source": [
        "px.area(df, x=\"Date\", y=\"Volume\")"
      ],
      "execution_count": null,
      "outputs": [
        {
          "output_type": "display_data",
          "data": {
            "text/html": [
              "<html>\n",
              "<head><meta charset=\"utf-8\" /></head>\n",
              "<body>\n",
              "    <div>\n",
              "            <script src=\"https://cdnjs.cloudflare.com/ajax/libs/mathjax/2.7.5/MathJax.js?config=TeX-AMS-MML_SVG\"></script><script type=\"text/javascript\">if (window.MathJax) {MathJax.Hub.Config({SVG: {font: \"STIX-Web\"}});}</script>\n",
              "                <script type=\"text/javascript\">window.PlotlyConfig = {MathJaxConfig: 'local'};</script>\n",
              "        <script src=\"https://cdn.plot.ly/plotly-latest.min.js\"></script>    \n",
              "            <div id=\"8a45dc8b-a435-40f4-8feb-de10128283be\" class=\"plotly-graph-div\" style=\"height:525px; width:100%;\"></div>\n",
              "            <script type=\"text/javascript\">\n",
              "                \n",
              "                    window.PLOTLYENV=window.PLOTLYENV || {};\n",
              "                    \n",
              "                if (document.getElementById(\"8a45dc8b-a435-40f4-8feb-de10128283be\")) {\n",
              "                    Plotly.newPlot(\n",
              "                        '8a45dc8b-a435-40f4-8feb-de10128283be',\n",
              "                        [{\"hoverlabel\": {\"namelength\": 0}, \"hovertemplate\": \"Date=%{x}<br>Volume=%{y}\", \"legendgroup\": \"\", \"line\": {\"color\": \"#636efa\"}, \"mode\": \"lines\", \"name\": \"\", \"orientation\": \"v\", \"showlegend\": false, \"stackgroup\": \"1\", \"type\": \"scatter\", \"x\": [\"2020-11-23\", \"2020-11-24\", \"2020-11-25\", \"2020-11-27\", \"2020-11-30\", \"2020-12-01\", \"2020-12-02\", \"2020-12-03\", \"2020-12-04\", \"2020-12-07\", \"2020-12-08\", \"2020-12-09\", \"2020-12-10\", \"2020-12-11\", \"2020-12-14\", \"2020-12-15\", \"2020-12-16\", \"2020-12-17\", \"2020-12-18\", \"2020-12-21\", \"2020-12-22\", \"2020-12-23\", \"2020-12-24\", \"2020-12-28\", \"2020-12-29\", \"2020-12-30\", \"2020-12-31\", \"2021-01-04\", \"2021-01-05\", \"2021-01-06\", \"2021-01-07\", \"2021-01-08\", \"2021-01-11\", \"2021-01-12\", \"2021-01-13\", \"2021-01-14\", \"2021-01-15\", \"2021-01-19\", \"2021-01-20\", \"2021-01-21\", \"2021-01-22\", \"2021-01-25\", \"2021-01-26\", \"2021-01-27\", \"2021-01-28\", \"2021-01-29\", \"2021-02-01\", \"2021-02-02\", \"2021-02-03\", \"2021-02-04\", \"2021-02-05\", \"2021-02-08\", \"2021-02-09\", \"2021-02-10\", \"2021-02-11\", \"2021-02-12\", \"2021-02-16\", \"2021-02-17\", \"2021-02-18\", \"2021-02-19\", \"2021-02-22\", \"2021-02-23\", \"2021-02-24\", \"2021-02-25\", \"2021-02-26\", \"2021-03-01\", \"2021-03-02\", \"2021-03-03\", \"2021-03-04\", \"2021-03-05\", \"2021-03-08\", \"2021-03-09\", \"2021-03-10\", \"2021-03-11\", \"2021-03-12\", \"2021-03-15\", \"2021-03-16\", \"2021-03-17\", \"2021-03-18\", \"2021-03-19\", \"2021-03-22\", \"2021-03-23\", \"2021-03-24\", \"2021-03-25\", \"2021-03-26\", \"2021-03-29\", \"2021-03-30\", \"2021-03-31\", \"2021-04-01\", \"2021-04-05\", \"2021-04-06\", \"2021-04-07\", \"2021-04-08\", \"2021-04-09\", \"2021-04-12\", \"2021-04-13\", \"2021-04-14\", \"2021-04-15\", \"2021-04-16\", \"2021-04-19\", \"2021-04-20\", \"2021-04-21\", \"2021-04-22\", \"2021-04-23\", \"2021-04-26\", \"2021-04-27\", \"2021-04-28\", \"2021-04-29\", \"2021-04-30\", \"2021-05-03\", \"2021-05-04\", \"2021-05-05\", \"2021-05-06\", \"2021-05-07\", \"2021-05-10\", \"2021-05-11\", \"2021-05-12\", \"2021-05-13\", \"2021-05-14\", \"2021-05-17\", \"2021-05-18\", \"2021-05-19\", \"2021-05-20\", \"2021-05-21\", \"2021-05-24\", \"2021-05-25\", \"2021-05-26\", \"2021-05-27\", \"2021-05-28\", \"2021-06-01\", \"2021-06-02\", \"2021-06-03\", \"2021-06-04\", \"2021-06-07\", \"2021-06-08\", \"2021-06-09\", \"2021-06-10\", \"2021-06-11\", \"2021-06-14\", \"2021-06-15\", \"2021-06-16\", \"2021-06-17\", \"2021-06-18\", \"2021-06-21\", \"2021-06-22\", \"2021-06-23\", \"2021-06-24\", \"2021-06-25\", \"2021-06-28\", \"2021-06-29\", \"2021-06-30\", \"2021-07-01\", \"2021-07-02\", \"2021-07-06\", \"2021-07-07\", \"2021-07-08\", \"2021-07-09\", \"2021-07-12\", \"2021-07-13\", \"2021-07-14\", \"2021-07-15\", \"2021-07-16\", \"2021-07-19\", \"2021-07-20\", \"2021-07-21\", \"2021-07-22\", \"2021-07-23\", \"2021-07-26\", \"2021-07-27\", \"2021-07-28\", \"2021-07-29\", \"2021-07-30\", \"2021-08-02\", \"2021-08-03\", \"2021-08-04\", \"2021-08-05\", \"2021-08-06\", \"2021-08-09\", \"2021-08-10\", \"2021-08-11\", \"2021-08-12\", \"2021-08-13\", \"2021-08-16\", \"2021-08-17\", \"2021-08-18\", \"2021-08-19\", \"2021-08-20\", \"2021-08-23\", \"2021-08-24\", \"2021-08-25\", \"2021-08-26\", \"2021-08-27\", \"2021-08-30\", \"2021-08-31\", \"2021-09-01\", \"2021-09-02\", \"2021-09-03\", \"2021-09-07\", \"2021-09-08\", \"2021-09-09\", \"2021-09-10\", \"2021-09-13\", \"2021-09-14\", \"2021-09-15\", \"2021-09-16\", \"2021-09-17\", \"2021-09-20\", \"2021-09-21\", \"2021-09-22\", \"2021-09-23\", \"2021-09-24\", \"2021-09-27\", \"2021-09-28\", \"2021-09-29\", \"2021-09-30\", \"2021-10-01\", \"2021-10-04\", \"2021-10-05\", \"2021-10-06\", \"2021-10-07\", \"2021-10-08\", \"2021-10-11\", \"2021-10-12\", \"2021-10-13\", \"2021-10-14\", \"2021-10-15\", \"2021-10-18\", \"2021-10-19\", \"2021-10-20\", \"2021-10-21\", \"2021-10-22\", \"2021-10-25\", \"2021-10-26\", \"2021-10-27\", \"2021-10-28\", \"2021-10-29\", \"2021-11-01\", \"2021-11-02\", \"2021-11-03\", \"2021-11-04\", \"2021-11-05\", \"2021-11-08\", \"2021-11-09\", \"2021-11-10\", \"2021-11-11\", \"2021-11-12\", \"2021-11-15\", \"2021-11-16\", \"2021-11-17\", \"2021-11-18\", \"2021-11-19\"], \"xaxis\": \"x\", \"y\": [8486000, 6148400, 8763700, 7276400, 16646500, 20837500, 10962800, 6306700, 4447300, 4427300, 5319400, 8956700, 4572100, 4677400, 6820100, 5144700, 4158500, 3792500, 6174800, 8557400, 4211000, 9554400, 3850700, 9454800, 6080300, 5474500, 6559700, 8598300, 4983500, 7124600, 5601200, 5009200, 3360400, 8934400, 14056500, 9311000, 12799500, 5709400, 5713900, 5180800, 2791600, 5178100, 5151300, 4557500, 3374200, 3959000, 3443900, 3780100, 3433100, 2528100, 9759100, 3731500, 5115400, 4738300, 3502600, 2077800, 4249200, 4006500, 2645300, 2195000, 4340300, 5558200, 3442400, 4585100, 4702400, 10044700, 18156600, 15526000, 10328100, 8255500, 6899100, 5705200, 4730000, 3915400, 2960800, 1988200, 3333200, 3593200, 5434400, 4981400, 2947900, 5723800, 4924500, 3564800, 3219800, 3041400, 2837100, 2773200, 2853900, 3024700, 3767100, 4197700, 2821500, 3216500, 2964500, 5298200, 2844900, 3360700, 2476500, 3131900, 2282500, 1917500, 3328300, 2454300, 2286700, 2208300, 1437600, 3121100, 2152500, 2253000, 3727600, 2582600, 3369100, 2446200, 2507800, 4084400, 3419800, 4608500, 4357300, 2905600, 3311900, 1728400, 3029400, 2057300, 1855000, 2160100, 2374300, 3622100, 2745700, 6607100, 6252100, 3107300, 5604900, 4538700, 2842700, 2721200, 2809200, 6783400, 3444300, 2587900, 2669200, 3416600, 4569100, 1896900, 1999000, 2358900, 2438900, 3647200, 3459900, 2582700, 2249400, 1468000, 2065000, 3436200, 2026600, 2748900, 1918200, 1902500, 1757400, 2599600, 2399700, 1887100, 7787600, 4061100, 2953400, 3096000, 2874300, 3842000, 3080000, 1870700, 6662100, 2870700, 3163600, 2190900, 5563800, 3427600, 3088000, 2306600, 2806500, 3510800, 2063300, 1743300, 2405500, 1991500, 2092700, 2476000, 2354400, 2147300, 1778100, 2039200, 4849000, 3089600, 10094400, 34582900, 14996000, 6645200, 6127900, 4251900, 3934400, 3350100, 6089600, 4916100, 6036800, 4647400, 4676300, 5423400, 3905300, 4168300, 2973700, 2867900, 4051700, 3084100, 5212900, 4316300, 4733100, 8664800, 5004600, 3712100, 3905500, 2672200, 2261900, 1722500, 3061100, 3764800, 3063900, 2794100, 2649200, 2379400, 1740700, 1496600, 3320500, 2925600, 2422000, 3104800, 1594800, 1493800, 2773200, 2092700, 2435800, 1986800, 5373200, 3944100, 3022500, 4903900, 3286200, 3167900, 3994900, 1972000, 2417300, 2353700, 3877500], \"yaxis\": \"y\"}],\n",
              "                        {\"legend\": {\"tracegroupgap\": 0}, \"margin\": {\"t\": 60}, \"template\": {\"data\": {\"bar\": [{\"error_x\": {\"color\": \"#2a3f5f\"}, \"error_y\": {\"color\": \"#2a3f5f\"}, \"marker\": {\"line\": {\"color\": \"#E5ECF6\", \"width\": 0.5}}, \"type\": \"bar\"}], \"barpolar\": [{\"marker\": {\"line\": {\"color\": \"#E5ECF6\", \"width\": 0.5}}, \"type\": \"barpolar\"}], \"carpet\": [{\"aaxis\": {\"endlinecolor\": \"#2a3f5f\", \"gridcolor\": \"white\", \"linecolor\": \"white\", \"minorgridcolor\": \"white\", \"startlinecolor\": \"#2a3f5f\"}, \"baxis\": {\"endlinecolor\": \"#2a3f5f\", \"gridcolor\": \"white\", \"linecolor\": \"white\", \"minorgridcolor\": \"white\", \"startlinecolor\": \"#2a3f5f\"}, \"type\": \"carpet\"}], \"choropleth\": [{\"colorbar\": {\"outlinewidth\": 0, \"ticks\": \"\"}, \"type\": \"choropleth\"}], \"contour\": [{\"colorbar\": {\"outlinewidth\": 0, \"ticks\": \"\"}, \"colorscale\": [[0.0, \"#0d0887\"], [0.1111111111111111, \"#46039f\"], [0.2222222222222222, \"#7201a8\"], [0.3333333333333333, \"#9c179e\"], [0.4444444444444444, \"#bd3786\"], [0.5555555555555556, \"#d8576b\"], [0.6666666666666666, \"#ed7953\"], [0.7777777777777778, \"#fb9f3a\"], [0.8888888888888888, \"#fdca26\"], [1.0, \"#f0f921\"]], \"type\": \"contour\"}], \"contourcarpet\": [{\"colorbar\": {\"outlinewidth\": 0, \"ticks\": \"\"}, \"type\": \"contourcarpet\"}], \"heatmap\": [{\"colorbar\": {\"outlinewidth\": 0, \"ticks\": \"\"}, \"colorscale\": [[0.0, \"#0d0887\"], [0.1111111111111111, \"#46039f\"], [0.2222222222222222, \"#7201a8\"], [0.3333333333333333, \"#9c179e\"], [0.4444444444444444, \"#bd3786\"], [0.5555555555555556, \"#d8576b\"], [0.6666666666666666, \"#ed7953\"], [0.7777777777777778, \"#fb9f3a\"], [0.8888888888888888, \"#fdca26\"], [1.0, \"#f0f921\"]], \"type\": \"heatmap\"}], \"heatmapgl\": [{\"colorbar\": {\"outlinewidth\": 0, \"ticks\": \"\"}, \"colorscale\": [[0.0, \"#0d0887\"], [0.1111111111111111, \"#46039f\"], [0.2222222222222222, \"#7201a8\"], [0.3333333333333333, \"#9c179e\"], [0.4444444444444444, \"#bd3786\"], [0.5555555555555556, \"#d8576b\"], [0.6666666666666666, \"#ed7953\"], [0.7777777777777778, \"#fb9f3a\"], [0.8888888888888888, \"#fdca26\"], [1.0, \"#f0f921\"]], \"type\": \"heatmapgl\"}], \"histogram\": [{\"marker\": {\"colorbar\": {\"outlinewidth\": 0, \"ticks\": \"\"}}, \"type\": \"histogram\"}], \"histogram2d\": [{\"colorbar\": {\"outlinewidth\": 0, \"ticks\": \"\"}, \"colorscale\": [[0.0, \"#0d0887\"], [0.1111111111111111, \"#46039f\"], [0.2222222222222222, \"#7201a8\"], [0.3333333333333333, \"#9c179e\"], [0.4444444444444444, \"#bd3786\"], [0.5555555555555556, \"#d8576b\"], [0.6666666666666666, \"#ed7953\"], [0.7777777777777778, \"#fb9f3a\"], [0.8888888888888888, \"#fdca26\"], [1.0, \"#f0f921\"]], \"type\": \"histogram2d\"}], \"histogram2dcontour\": [{\"colorbar\": {\"outlinewidth\": 0, \"ticks\": \"\"}, \"colorscale\": [[0.0, \"#0d0887\"], [0.1111111111111111, \"#46039f\"], [0.2222222222222222, \"#7201a8\"], [0.3333333333333333, \"#9c179e\"], [0.4444444444444444, \"#bd3786\"], [0.5555555555555556, \"#d8576b\"], [0.6666666666666666, \"#ed7953\"], [0.7777777777777778, \"#fb9f3a\"], [0.8888888888888888, \"#fdca26\"], [1.0, \"#f0f921\"]], \"type\": \"histogram2dcontour\"}], \"mesh3d\": [{\"colorbar\": {\"outlinewidth\": 0, \"ticks\": \"\"}, \"type\": \"mesh3d\"}], \"parcoords\": [{\"line\": {\"colorbar\": {\"outlinewidth\": 0, \"ticks\": \"\"}}, \"type\": \"parcoords\"}], \"pie\": [{\"automargin\": true, \"type\": \"pie\"}], \"scatter\": [{\"marker\": {\"colorbar\": {\"outlinewidth\": 0, \"ticks\": \"\"}}, \"type\": \"scatter\"}], \"scatter3d\": [{\"line\": {\"colorbar\": {\"outlinewidth\": 0, \"ticks\": \"\"}}, \"marker\": {\"colorbar\": {\"outlinewidth\": 0, \"ticks\": \"\"}}, \"type\": \"scatter3d\"}], \"scattercarpet\": [{\"marker\": {\"colorbar\": {\"outlinewidth\": 0, \"ticks\": \"\"}}, \"type\": \"scattercarpet\"}], \"scattergeo\": [{\"marker\": {\"colorbar\": {\"outlinewidth\": 0, \"ticks\": \"\"}}, \"type\": \"scattergeo\"}], \"scattergl\": [{\"marker\": {\"colorbar\": {\"outlinewidth\": 0, \"ticks\": \"\"}}, \"type\": \"scattergl\"}], \"scattermapbox\": [{\"marker\": {\"colorbar\": {\"outlinewidth\": 0, \"ticks\": \"\"}}, \"type\": \"scattermapbox\"}], \"scatterpolar\": [{\"marker\": {\"colorbar\": {\"outlinewidth\": 0, \"ticks\": \"\"}}, \"type\": \"scatterpolar\"}], \"scatterpolargl\": [{\"marker\": {\"colorbar\": {\"outlinewidth\": 0, \"ticks\": \"\"}}, \"type\": \"scatterpolargl\"}], \"scatterternary\": [{\"marker\": {\"colorbar\": {\"outlinewidth\": 0, \"ticks\": \"\"}}, \"type\": \"scatterternary\"}], \"surface\": [{\"colorbar\": {\"outlinewidth\": 0, \"ticks\": \"\"}, \"colorscale\": [[0.0, \"#0d0887\"], [0.1111111111111111, \"#46039f\"], [0.2222222222222222, \"#7201a8\"], [0.3333333333333333, \"#9c179e\"], [0.4444444444444444, \"#bd3786\"], [0.5555555555555556, \"#d8576b\"], [0.6666666666666666, \"#ed7953\"], [0.7777777777777778, \"#fb9f3a\"], [0.8888888888888888, \"#fdca26\"], [1.0, \"#f0f921\"]], \"type\": \"surface\"}], \"table\": [{\"cells\": {\"fill\": {\"color\": \"#EBF0F8\"}, \"line\": {\"color\": \"white\"}}, \"header\": {\"fill\": {\"color\": \"#C8D4E3\"}, \"line\": {\"color\": \"white\"}}, \"type\": \"table\"}]}, \"layout\": {\"annotationdefaults\": {\"arrowcolor\": \"#2a3f5f\", \"arrowhead\": 0, \"arrowwidth\": 1}, \"coloraxis\": {\"colorbar\": {\"outlinewidth\": 0, \"ticks\": \"\"}}, \"colorscale\": {\"diverging\": [[0, \"#8e0152\"], [0.1, \"#c51b7d\"], [0.2, \"#de77ae\"], [0.3, \"#f1b6da\"], [0.4, \"#fde0ef\"], [0.5, \"#f7f7f7\"], [0.6, \"#e6f5d0\"], [0.7, \"#b8e186\"], [0.8, \"#7fbc41\"], [0.9, \"#4d9221\"], [1, \"#276419\"]], \"sequential\": [[0.0, \"#0d0887\"], [0.1111111111111111, \"#46039f\"], [0.2222222222222222, \"#7201a8\"], [0.3333333333333333, \"#9c179e\"], [0.4444444444444444, \"#bd3786\"], [0.5555555555555556, \"#d8576b\"], [0.6666666666666666, \"#ed7953\"], [0.7777777777777778, \"#fb9f3a\"], [0.8888888888888888, \"#fdca26\"], [1.0, \"#f0f921\"]], \"sequentialminus\": [[0.0, \"#0d0887\"], [0.1111111111111111, \"#46039f\"], [0.2222222222222222, \"#7201a8\"], [0.3333333333333333, \"#9c179e\"], [0.4444444444444444, \"#bd3786\"], [0.5555555555555556, \"#d8576b\"], [0.6666666666666666, \"#ed7953\"], [0.7777777777777778, \"#fb9f3a\"], [0.8888888888888888, \"#fdca26\"], [1.0, \"#f0f921\"]]}, \"colorway\": [\"#636efa\", \"#EF553B\", \"#00cc96\", \"#ab63fa\", \"#FFA15A\", \"#19d3f3\", \"#FF6692\", \"#B6E880\", \"#FF97FF\", \"#FECB52\"], \"font\": {\"color\": \"#2a3f5f\"}, \"geo\": {\"bgcolor\": \"white\", \"lakecolor\": \"white\", \"landcolor\": \"#E5ECF6\", \"showlakes\": true, \"showland\": true, \"subunitcolor\": \"white\"}, \"hoverlabel\": {\"align\": \"left\"}, \"hovermode\": \"closest\", \"mapbox\": {\"style\": \"light\"}, \"paper_bgcolor\": \"white\", \"plot_bgcolor\": \"#E5ECF6\", \"polar\": {\"angularaxis\": {\"gridcolor\": \"white\", \"linecolor\": \"white\", \"ticks\": \"\"}, \"bgcolor\": \"#E5ECF6\", \"radialaxis\": {\"gridcolor\": \"white\", \"linecolor\": \"white\", \"ticks\": \"\"}}, \"scene\": {\"xaxis\": {\"backgroundcolor\": \"#E5ECF6\", \"gridcolor\": \"white\", \"gridwidth\": 2, \"linecolor\": \"white\", \"showbackground\": true, \"ticks\": \"\", \"zerolinecolor\": \"white\"}, \"yaxis\": {\"backgroundcolor\": \"#E5ECF6\", \"gridcolor\": \"white\", \"gridwidth\": 2, \"linecolor\": \"white\", \"showbackground\": true, \"ticks\": \"\", \"zerolinecolor\": \"white\"}, \"zaxis\": {\"backgroundcolor\": \"#E5ECF6\", \"gridcolor\": \"white\", \"gridwidth\": 2, \"linecolor\": \"white\", \"showbackground\": true, \"ticks\": \"\", \"zerolinecolor\": \"white\"}}, \"shapedefaults\": {\"line\": {\"color\": \"#2a3f5f\"}}, \"ternary\": {\"aaxis\": {\"gridcolor\": \"white\", \"linecolor\": \"white\", \"ticks\": \"\"}, \"baxis\": {\"gridcolor\": \"white\", \"linecolor\": \"white\", \"ticks\": \"\"}, \"bgcolor\": \"#E5ECF6\", \"caxis\": {\"gridcolor\": \"white\", \"linecolor\": \"white\", \"ticks\": \"\"}}, \"title\": {\"x\": 0.05}, \"xaxis\": {\"automargin\": true, \"gridcolor\": \"white\", \"linecolor\": \"white\", \"ticks\": \"\", \"title\": {\"standoff\": 15}, \"zerolinecolor\": \"white\", \"zerolinewidth\": 2}, \"yaxis\": {\"automargin\": true, \"gridcolor\": \"white\", \"linecolor\": \"white\", \"ticks\": \"\", \"title\": {\"standoff\": 15}, \"zerolinecolor\": \"white\", \"zerolinewidth\": 2}}}, \"xaxis\": {\"anchor\": \"y\", \"domain\": [0.0, 1.0], \"title\": {\"text\": \"Date\"}}, \"yaxis\": {\"anchor\": \"x\", \"domain\": [0.0, 1.0], \"title\": {\"text\": \"Volume\"}}},\n",
              "                        {\"responsive\": true}\n",
              "                    ).then(function(){\n",
              "                            \n",
              "var gd = document.getElementById('8a45dc8b-a435-40f4-8feb-de10128283be');\n",
              "var x = new MutationObserver(function (mutations, observer) {{\n",
              "        var display = window.getComputedStyle(gd).display;\n",
              "        if (!display || display === 'none') {{\n",
              "            console.log([gd, 'removed!']);\n",
              "            Plotly.purge(gd);\n",
              "            observer.disconnect();\n",
              "        }}\n",
              "}});\n",
              "\n",
              "// Listen for the removal of the full notebook cells\n",
              "var notebookContainer = gd.closest('#notebook-container');\n",
              "if (notebookContainer) {{\n",
              "    x.observe(notebookContainer, {childList: true});\n",
              "}}\n",
              "\n",
              "// Listen for the clearing of the current output cell\n",
              "var outputEl = gd.closest('.output');\n",
              "if (outputEl) {{\n",
              "    x.observe(outputEl, {childList: true});\n",
              "}}\n",
              "\n",
              "                        })\n",
              "                };\n",
              "                \n",
              "            </script>\n",
              "        </div>\n",
              "</body>\n",
              "</html>"
            ]
          },
          "metadata": {}
        }
      ]
    },
    {
      "cell_type": "code",
      "metadata": {
        "id": "BReoHLZFttHK",
        "colab": {
          "base_uri": "https://localhost:8080/",
          "height": 542
        },
        "outputId": "e9c785ce-f4e1-4bab-9276-3b74e219a839"
      },
      "source": [
        "px.bar(df, y=\"Volume\")"
      ],
      "execution_count": null,
      "outputs": [
        {
          "output_type": "display_data",
          "data": {
            "text/html": [
              "<html>\n",
              "<head><meta charset=\"utf-8\" /></head>\n",
              "<body>\n",
              "    <div>\n",
              "            <script src=\"https://cdnjs.cloudflare.com/ajax/libs/mathjax/2.7.5/MathJax.js?config=TeX-AMS-MML_SVG\"></script><script type=\"text/javascript\">if (window.MathJax) {MathJax.Hub.Config({SVG: {font: \"STIX-Web\"}});}</script>\n",
              "                <script type=\"text/javascript\">window.PlotlyConfig = {MathJaxConfig: 'local'};</script>\n",
              "        <script src=\"https://cdn.plot.ly/plotly-latest.min.js\"></script>    \n",
              "            <div id=\"6db0c655-21d6-4dd2-a239-c3a32406f92a\" class=\"plotly-graph-div\" style=\"height:525px; width:100%;\"></div>\n",
              "            <script type=\"text/javascript\">\n",
              "                \n",
              "                    window.PLOTLYENV=window.PLOTLYENV || {};\n",
              "                    \n",
              "                if (document.getElementById(\"6db0c655-21d6-4dd2-a239-c3a32406f92a\")) {\n",
              "                    Plotly.newPlot(\n",
              "                        '6db0c655-21d6-4dd2-a239-c3a32406f92a',\n",
              "                        [{\"alignmentgroup\": \"True\", \"hoverlabel\": {\"namelength\": 0}, \"hovertemplate\": \"Volume=%{y}\", \"legendgroup\": \"\", \"marker\": {\"color\": \"#636efa\"}, \"name\": \"\", \"offsetgroup\": \"\", \"orientation\": \"v\", \"showlegend\": false, \"textposition\": \"auto\", \"type\": \"bar\", \"xaxis\": \"x\", \"y\": [8486000, 6148400, 8763700, 7276400, 16646500, 20837500, 10962800, 6306700, 4447300, 4427300, 5319400, 8956700, 4572100, 4677400, 6820100, 5144700, 4158500, 3792500, 6174800, 8557400, 4211000, 9554400, 3850700, 9454800, 6080300, 5474500, 6559700, 8598300, 4983500, 7124600, 5601200, 5009200, 3360400, 8934400, 14056500, 9311000, 12799500, 5709400, 5713900, 5180800, 2791600, 5178100, 5151300, 4557500, 3374200, 3959000, 3443900, 3780100, 3433100, 2528100, 9759100, 3731500, 5115400, 4738300, 3502600, 2077800, 4249200, 4006500, 2645300, 2195000, 4340300, 5558200, 3442400, 4585100, 4702400, 10044700, 18156600, 15526000, 10328100, 8255500, 6899100, 5705200, 4730000, 3915400, 2960800, 1988200, 3333200, 3593200, 5434400, 4981400, 2947900, 5723800, 4924500, 3564800, 3219800, 3041400, 2837100, 2773200, 2853900, 3024700, 3767100, 4197700, 2821500, 3216500, 2964500, 5298200, 2844900, 3360700, 2476500, 3131900, 2282500, 1917500, 3328300, 2454300, 2286700, 2208300, 1437600, 3121100, 2152500, 2253000, 3727600, 2582600, 3369100, 2446200, 2507800, 4084400, 3419800, 4608500, 4357300, 2905600, 3311900, 1728400, 3029400, 2057300, 1855000, 2160100, 2374300, 3622100, 2745700, 6607100, 6252100, 3107300, 5604900, 4538700, 2842700, 2721200, 2809200, 6783400, 3444300, 2587900, 2669200, 3416600, 4569100, 1896900, 1999000, 2358900, 2438900, 3647200, 3459900, 2582700, 2249400, 1468000, 2065000, 3436200, 2026600, 2748900, 1918200, 1902500, 1757400, 2599600, 2399700, 1887100, 7787600, 4061100, 2953400, 3096000, 2874300, 3842000, 3080000, 1870700, 6662100, 2870700, 3163600, 2190900, 5563800, 3427600, 3088000, 2306600, 2806500, 3510800, 2063300, 1743300, 2405500, 1991500, 2092700, 2476000, 2354400, 2147300, 1778100, 2039200, 4849000, 3089600, 10094400, 34582900, 14996000, 6645200, 6127900, 4251900, 3934400, 3350100, 6089600, 4916100, 6036800, 4647400, 4676300, 5423400, 3905300, 4168300, 2973700, 2867900, 4051700, 3084100, 5212900, 4316300, 4733100, 8664800, 5004600, 3712100, 3905500, 2672200, 2261900, 1722500, 3061100, 3764800, 3063900, 2794100, 2649200, 2379400, 1740700, 1496600, 3320500, 2925600, 2422000, 3104800, 1594800, 1493800, 2773200, 2092700, 2435800, 1986800, 5373200, 3944100, 3022500, 4903900, 3286200, 3167900, 3994900, 1972000, 2417300, 2353700, 3877500], \"yaxis\": \"y\"}],\n",
              "                        {\"barmode\": \"relative\", \"legend\": {\"tracegroupgap\": 0}, \"margin\": {\"t\": 60}, \"template\": {\"data\": {\"bar\": [{\"error_x\": {\"color\": \"#2a3f5f\"}, \"error_y\": {\"color\": \"#2a3f5f\"}, \"marker\": {\"line\": {\"color\": \"#E5ECF6\", \"width\": 0.5}}, \"type\": \"bar\"}], \"barpolar\": [{\"marker\": {\"line\": {\"color\": \"#E5ECF6\", \"width\": 0.5}}, \"type\": \"barpolar\"}], \"carpet\": [{\"aaxis\": {\"endlinecolor\": \"#2a3f5f\", \"gridcolor\": \"white\", \"linecolor\": \"white\", \"minorgridcolor\": \"white\", \"startlinecolor\": \"#2a3f5f\"}, \"baxis\": {\"endlinecolor\": \"#2a3f5f\", \"gridcolor\": \"white\", \"linecolor\": \"white\", \"minorgridcolor\": \"white\", \"startlinecolor\": \"#2a3f5f\"}, \"type\": \"carpet\"}], \"choropleth\": [{\"colorbar\": {\"outlinewidth\": 0, \"ticks\": \"\"}, \"type\": \"choropleth\"}], \"contour\": [{\"colorbar\": {\"outlinewidth\": 0, \"ticks\": \"\"}, \"colorscale\": [[0.0, \"#0d0887\"], [0.1111111111111111, \"#46039f\"], [0.2222222222222222, \"#7201a8\"], [0.3333333333333333, \"#9c179e\"], [0.4444444444444444, \"#bd3786\"], [0.5555555555555556, \"#d8576b\"], [0.6666666666666666, \"#ed7953\"], [0.7777777777777778, \"#fb9f3a\"], [0.8888888888888888, \"#fdca26\"], [1.0, \"#f0f921\"]], \"type\": \"contour\"}], \"contourcarpet\": [{\"colorbar\": {\"outlinewidth\": 0, \"ticks\": \"\"}, \"type\": \"contourcarpet\"}], \"heatmap\": [{\"colorbar\": {\"outlinewidth\": 0, \"ticks\": \"\"}, \"colorscale\": [[0.0, \"#0d0887\"], [0.1111111111111111, \"#46039f\"], [0.2222222222222222, \"#7201a8\"], [0.3333333333333333, \"#9c179e\"], [0.4444444444444444, \"#bd3786\"], [0.5555555555555556, \"#d8576b\"], [0.6666666666666666, \"#ed7953\"], [0.7777777777777778, \"#fb9f3a\"], [0.8888888888888888, \"#fdca26\"], [1.0, \"#f0f921\"]], \"type\": \"heatmap\"}], \"heatmapgl\": [{\"colorbar\": {\"outlinewidth\": 0, \"ticks\": \"\"}, \"colorscale\": [[0.0, \"#0d0887\"], [0.1111111111111111, \"#46039f\"], [0.2222222222222222, \"#7201a8\"], [0.3333333333333333, \"#9c179e\"], [0.4444444444444444, \"#bd3786\"], [0.5555555555555556, \"#d8576b\"], [0.6666666666666666, \"#ed7953\"], [0.7777777777777778, \"#fb9f3a\"], [0.8888888888888888, \"#fdca26\"], [1.0, \"#f0f921\"]], \"type\": \"heatmapgl\"}], \"histogram\": [{\"marker\": {\"colorbar\": {\"outlinewidth\": 0, \"ticks\": \"\"}}, \"type\": \"histogram\"}], \"histogram2d\": [{\"colorbar\": {\"outlinewidth\": 0, \"ticks\": \"\"}, \"colorscale\": [[0.0, \"#0d0887\"], [0.1111111111111111, \"#46039f\"], [0.2222222222222222, \"#7201a8\"], [0.3333333333333333, \"#9c179e\"], [0.4444444444444444, \"#bd3786\"], [0.5555555555555556, \"#d8576b\"], [0.6666666666666666, \"#ed7953\"], [0.7777777777777778, \"#fb9f3a\"], [0.8888888888888888, \"#fdca26\"], [1.0, \"#f0f921\"]], \"type\": \"histogram2d\"}], \"histogram2dcontour\": [{\"colorbar\": {\"outlinewidth\": 0, \"ticks\": \"\"}, \"colorscale\": [[0.0, \"#0d0887\"], [0.1111111111111111, \"#46039f\"], [0.2222222222222222, \"#7201a8\"], [0.3333333333333333, \"#9c179e\"], [0.4444444444444444, \"#bd3786\"], [0.5555555555555556, \"#d8576b\"], [0.6666666666666666, \"#ed7953\"], [0.7777777777777778, \"#fb9f3a\"], [0.8888888888888888, \"#fdca26\"], [1.0, \"#f0f921\"]], \"type\": \"histogram2dcontour\"}], \"mesh3d\": [{\"colorbar\": {\"outlinewidth\": 0, \"ticks\": \"\"}, \"type\": \"mesh3d\"}], \"parcoords\": [{\"line\": {\"colorbar\": {\"outlinewidth\": 0, \"ticks\": \"\"}}, \"type\": \"parcoords\"}], \"pie\": [{\"automargin\": true, \"type\": \"pie\"}], \"scatter\": [{\"marker\": {\"colorbar\": {\"outlinewidth\": 0, \"ticks\": \"\"}}, \"type\": \"scatter\"}], \"scatter3d\": [{\"line\": {\"colorbar\": {\"outlinewidth\": 0, \"ticks\": \"\"}}, \"marker\": {\"colorbar\": {\"outlinewidth\": 0, \"ticks\": \"\"}}, \"type\": \"scatter3d\"}], \"scattercarpet\": [{\"marker\": {\"colorbar\": {\"outlinewidth\": 0, \"ticks\": \"\"}}, \"type\": \"scattercarpet\"}], \"scattergeo\": [{\"marker\": {\"colorbar\": {\"outlinewidth\": 0, \"ticks\": \"\"}}, \"type\": \"scattergeo\"}], \"scattergl\": [{\"marker\": {\"colorbar\": {\"outlinewidth\": 0, \"ticks\": \"\"}}, \"type\": \"scattergl\"}], \"scattermapbox\": [{\"marker\": {\"colorbar\": {\"outlinewidth\": 0, \"ticks\": \"\"}}, \"type\": \"scattermapbox\"}], \"scatterpolar\": [{\"marker\": {\"colorbar\": {\"outlinewidth\": 0, \"ticks\": \"\"}}, \"type\": \"scatterpolar\"}], \"scatterpolargl\": [{\"marker\": {\"colorbar\": {\"outlinewidth\": 0, \"ticks\": \"\"}}, \"type\": \"scatterpolargl\"}], \"scatterternary\": [{\"marker\": {\"colorbar\": {\"outlinewidth\": 0, \"ticks\": \"\"}}, \"type\": \"scatterternary\"}], \"surface\": [{\"colorbar\": {\"outlinewidth\": 0, \"ticks\": \"\"}, \"colorscale\": [[0.0, \"#0d0887\"], [0.1111111111111111, \"#46039f\"], [0.2222222222222222, \"#7201a8\"], [0.3333333333333333, \"#9c179e\"], [0.4444444444444444, \"#bd3786\"], [0.5555555555555556, \"#d8576b\"], [0.6666666666666666, \"#ed7953\"], [0.7777777777777778, \"#fb9f3a\"], [0.8888888888888888, \"#fdca26\"], [1.0, \"#f0f921\"]], \"type\": \"surface\"}], \"table\": [{\"cells\": {\"fill\": {\"color\": \"#EBF0F8\"}, \"line\": {\"color\": \"white\"}}, \"header\": {\"fill\": {\"color\": \"#C8D4E3\"}, \"line\": {\"color\": \"white\"}}, \"type\": \"table\"}]}, \"layout\": {\"annotationdefaults\": {\"arrowcolor\": \"#2a3f5f\", \"arrowhead\": 0, \"arrowwidth\": 1}, \"coloraxis\": {\"colorbar\": {\"outlinewidth\": 0, \"ticks\": \"\"}}, \"colorscale\": {\"diverging\": [[0, \"#8e0152\"], [0.1, \"#c51b7d\"], [0.2, \"#de77ae\"], [0.3, \"#f1b6da\"], [0.4, \"#fde0ef\"], [0.5, \"#f7f7f7\"], [0.6, \"#e6f5d0\"], [0.7, \"#b8e186\"], [0.8, \"#7fbc41\"], [0.9, \"#4d9221\"], [1, \"#276419\"]], \"sequential\": [[0.0, \"#0d0887\"], [0.1111111111111111, \"#46039f\"], [0.2222222222222222, \"#7201a8\"], [0.3333333333333333, \"#9c179e\"], [0.4444444444444444, \"#bd3786\"], [0.5555555555555556, \"#d8576b\"], [0.6666666666666666, \"#ed7953\"], [0.7777777777777778, \"#fb9f3a\"], [0.8888888888888888, \"#fdca26\"], [1.0, \"#f0f921\"]], \"sequentialminus\": [[0.0, \"#0d0887\"], [0.1111111111111111, \"#46039f\"], [0.2222222222222222, \"#7201a8\"], [0.3333333333333333, \"#9c179e\"], [0.4444444444444444, \"#bd3786\"], [0.5555555555555556, \"#d8576b\"], [0.6666666666666666, \"#ed7953\"], [0.7777777777777778, \"#fb9f3a\"], [0.8888888888888888, \"#fdca26\"], [1.0, \"#f0f921\"]]}, \"colorway\": [\"#636efa\", \"#EF553B\", \"#00cc96\", \"#ab63fa\", \"#FFA15A\", \"#19d3f3\", \"#FF6692\", \"#B6E880\", \"#FF97FF\", \"#FECB52\"], \"font\": {\"color\": \"#2a3f5f\"}, \"geo\": {\"bgcolor\": \"white\", \"lakecolor\": \"white\", \"landcolor\": \"#E5ECF6\", \"showlakes\": true, \"showland\": true, \"subunitcolor\": \"white\"}, \"hoverlabel\": {\"align\": \"left\"}, \"hovermode\": \"closest\", \"mapbox\": {\"style\": \"light\"}, \"paper_bgcolor\": \"white\", \"plot_bgcolor\": \"#E5ECF6\", \"polar\": {\"angularaxis\": {\"gridcolor\": \"white\", \"linecolor\": \"white\", \"ticks\": \"\"}, \"bgcolor\": \"#E5ECF6\", \"radialaxis\": {\"gridcolor\": \"white\", \"linecolor\": \"white\", \"ticks\": \"\"}}, \"scene\": {\"xaxis\": {\"backgroundcolor\": \"#E5ECF6\", \"gridcolor\": \"white\", \"gridwidth\": 2, \"linecolor\": \"white\", \"showbackground\": true, \"ticks\": \"\", \"zerolinecolor\": \"white\"}, \"yaxis\": {\"backgroundcolor\": \"#E5ECF6\", \"gridcolor\": \"white\", \"gridwidth\": 2, \"linecolor\": \"white\", \"showbackground\": true, \"ticks\": \"\", \"zerolinecolor\": \"white\"}, \"zaxis\": {\"backgroundcolor\": \"#E5ECF6\", \"gridcolor\": \"white\", \"gridwidth\": 2, \"linecolor\": \"white\", \"showbackground\": true, \"ticks\": \"\", \"zerolinecolor\": \"white\"}}, \"shapedefaults\": {\"line\": {\"color\": \"#2a3f5f\"}}, \"ternary\": {\"aaxis\": {\"gridcolor\": \"white\", \"linecolor\": \"white\", \"ticks\": \"\"}, \"baxis\": {\"gridcolor\": \"white\", \"linecolor\": \"white\", \"ticks\": \"\"}, \"bgcolor\": \"#E5ECF6\", \"caxis\": {\"gridcolor\": \"white\", \"linecolor\": \"white\", \"ticks\": \"\"}}, \"title\": {\"x\": 0.05}, \"xaxis\": {\"automargin\": true, \"gridcolor\": \"white\", \"linecolor\": \"white\", \"ticks\": \"\", \"title\": {\"standoff\": 15}, \"zerolinecolor\": \"white\", \"zerolinewidth\": 2}, \"yaxis\": {\"automargin\": true, \"gridcolor\": \"white\", \"linecolor\": \"white\", \"ticks\": \"\", \"title\": {\"standoff\": 15}, \"zerolinecolor\": \"white\", \"zerolinewidth\": 2}}}, \"xaxis\": {\"anchor\": \"y\", \"domain\": [0.0, 1.0]}, \"yaxis\": {\"anchor\": \"x\", \"domain\": [0.0, 1.0], \"title\": {\"text\": \"Volume\"}}},\n",
              "                        {\"responsive\": true}\n",
              "                    ).then(function(){\n",
              "                            \n",
              "var gd = document.getElementById('6db0c655-21d6-4dd2-a239-c3a32406f92a');\n",
              "var x = new MutationObserver(function (mutations, observer) {{\n",
              "        var display = window.getComputedStyle(gd).display;\n",
              "        if (!display || display === 'none') {{\n",
              "            console.log([gd, 'removed!']);\n",
              "            Plotly.purge(gd);\n",
              "            observer.disconnect();\n",
              "        }}\n",
              "}});\n",
              "\n",
              "// Listen for the removal of the full notebook cells\n",
              "var notebookContainer = gd.closest('#notebook-container');\n",
              "if (notebookContainer) {{\n",
              "    x.observe(notebookContainer, {childList: true});\n",
              "}}\n",
              "\n",
              "// Listen for the clearing of the current output cell\n",
              "var outputEl = gd.closest('.output');\n",
              "if (outputEl) {{\n",
              "    x.observe(outputEl, {childList: true});\n",
              "}}\n",
              "\n",
              "                        })\n",
              "                };\n",
              "                \n",
              "            </script>\n",
              "        </div>\n",
              "</body>\n",
              "</html>"
            ]
          },
          "metadata": {}
        }
      ]
    },
    {
      "cell_type": "code",
      "metadata": {
        "id": "CE08zJhPQoSb",
        "colab": {
          "base_uri": "https://localhost:8080/",
          "height": 542
        },
        "outputId": "6f639413-4134-4c0b-c9d4-964b659bec9f"
      },
      "source": [
        "px.box(df, y=\"Close\")"
      ],
      "execution_count": null,
      "outputs": [
        {
          "output_type": "display_data",
          "data": {
            "text/html": [
              "<html>\n",
              "<head><meta charset=\"utf-8\" /></head>\n",
              "<body>\n",
              "    <div>\n",
              "            <script src=\"https://cdnjs.cloudflare.com/ajax/libs/mathjax/2.7.5/MathJax.js?config=TeX-AMS-MML_SVG\"></script><script type=\"text/javascript\">if (window.MathJax) {MathJax.Hub.Config({SVG: {font: \"STIX-Web\"}});}</script>\n",
              "                <script type=\"text/javascript\">window.PlotlyConfig = {MathJaxConfig: 'local'};</script>\n",
              "        <script src=\"https://cdn.plot.ly/plotly-latest.min.js\"></script>    \n",
              "            <div id=\"e7dd1d8f-94d9-440b-a57a-c2fab40d7fcb\" class=\"plotly-graph-div\" style=\"height:525px; width:100%;\"></div>\n",
              "            <script type=\"text/javascript\">\n",
              "                \n",
              "                    window.PLOTLYENV=window.PLOTLYENV || {};\n",
              "                    \n",
              "                if (document.getElementById(\"e7dd1d8f-94d9-440b-a57a-c2fab40d7fcb\")) {\n",
              "                    Plotly.newPlot(\n",
              "                        'e7dd1d8f-94d9-440b-a57a-c2fab40d7fcb',\n",
              "                        [{\"alignmentgroup\": \"True\", \"hoverlabel\": {\"namelength\": 0}, \"hovertemplate\": \"Close=%{y}\", \"legendgroup\": \"\", \"marker\": {\"color\": \"#636efa\"}, \"name\": \"\", \"notched\": false, \"offsetgroup\": \"\", \"orientation\": \"v\", \"showlegend\": false, \"type\": \"box\", \"x0\": \" \", \"xaxis\": \"x\", \"y\": [430.27999900000003, 427.549988, 443.72000099999997, 471.60998499999994, 478.35998499999994, 406.309998, 412.859985, 413.540009, 410.01001, 407.850006, 412.0, 385.359985, 397.959991, 397.01001, 395.98999, 399.429993, 404.0, 401.619995, 406.01001, 408.97000099999997, 409.0, 383.880005, 375.170013, 351.390015, 353.75, 353.399994, 337.320007, 359.980011, 360.829987, 344.410004, 342.5, 349.609985, 337.709991, 356.809998, 364.630005, 383.23999, 384.52999900000003, 393.869995, 382.799988, 382.809998, 383.399994, 391.829987, 374.390015, 370.73999, 378.589996, 372.070007, 381.929993, 391.839996, 380.47000099999997, 389.980011, 419.589996, 410.809998, 430.02999900000003, 431.0, 432.76998899999995, 433.10998499999994, 444.51000999999997, 429.420013, 417.910004, 417.26001, 394.339996, 388.160004, 385.230011, 364.730011, 373.609985, 409.660004, 372.790009, 341.570007, 343.089996, 337.429993, 310.929993, 342.109985, 336.02999900000003, 355.170013, 346.390015, 350.0, 335.079987, 336.649994, 316.320007, 326.26001, 328.5, 339.76001, 314.959991, 314.850006, 319.950012, 308.390015, 313.190002, 321.290009, 326.230011, 323.959991, 329.790009, 323.079987, 331.27999900000003, 322.649994, 321.51001, 342.75, 329.200012, 332.380005, 329.950012, 324.329987, 321.77999900000003, 322.76001, 328.320007, 336.880005, 336.420013, 333.48999, 331.25, 321.100006, 319.570007, 313.920013, 304.850006, 297.589996, 293.049988, 295.23999, 288.48999, 300.25, 289.700012, 290.160004, 307.890015, 308.929993, 312.859985, 310.459991, 324.709991, 316.399994, 321.559998, 321.27999900000003, 326.049988, 326.429993, 331.52999900000003, 327.72000099999997, 327.109985, 319.01001, 336.0, 342.660004, 341.26001, 333.630005, 346.5, 366.399994, 365.910004, 359.0, 361.829987, 372.950012, 374.23999, 369.25, 374.649994, 376.920013, 373.399994, 372.47000099999997, 388.859985, 394.730011, 387.02999900000003, 386.480011, 388.890015, 401.119995, 393.910004, 386.01001, 385.079987, 379.119995, 378.390015, 360.609985, 356.809998, 361.97000099999997, 354.200012, 355.809998, 352.97000099999997, 361.390015, 359.230011, 373.140015, 367.540009, 369.48999, 386.019989, 378.100006, 378.959991, 374.880005, 400.579987, 398.679993, 383.47000099999997, 383.339996, 372.549988, 358.559998, 362.859985, 355.23999, 348.410004, 345.540009, 340.929993, 332.380005, 336.859985, 341.299988, 340.25, 337.73999, 340.630005, 340.809998, 347.5, 289.5, 290.859985, 295.089996, 298.290009, 299.959991, 293.600006, 295.859985, 301.5, 290.23999, 281.440002, 279.119995, 278.22000099999997, 287.679993, 280.670013, 278.23999, 277.950012, 276.190002, 272.359985, 272.880005, 261.890015, 257.410004, 261.5, 267.51001, 259.579987, 257.119995, 253.649994, 256.269989, 255.05000299999998, 253.97000099999997, 255.49000499999997, 266.23999, 267.01001, 266.320007, 274.230011, 276.399994, 275.709991, 274.77999900000003, 277.579987, 279.790009, 278.700012, 272.809998, 276.579987, 274.649994, 278.940002, 280.290009, 285.660004, 282.200012, 264.700012, 259.899994, 258.399994, 251.25999500000003, 247.600006, 254.97000099999997, 263.709991, 264.48999, 263.709991, 255.75, 251.30000299999998], \"y0\": \" \", \"yaxis\": \"y\"}],\n",
              "                        {\"boxmode\": \"group\", \"legend\": {\"tracegroupgap\": 0}, \"margin\": {\"t\": 60}, \"template\": {\"data\": {\"bar\": [{\"error_x\": {\"color\": \"#2a3f5f\"}, \"error_y\": {\"color\": \"#2a3f5f\"}, \"marker\": {\"line\": {\"color\": \"#E5ECF6\", \"width\": 0.5}}, \"type\": \"bar\"}], \"barpolar\": [{\"marker\": {\"line\": {\"color\": \"#E5ECF6\", \"width\": 0.5}}, \"type\": \"barpolar\"}], \"carpet\": [{\"aaxis\": {\"endlinecolor\": \"#2a3f5f\", \"gridcolor\": \"white\", \"linecolor\": \"white\", \"minorgridcolor\": \"white\", \"startlinecolor\": \"#2a3f5f\"}, \"baxis\": {\"endlinecolor\": \"#2a3f5f\", \"gridcolor\": \"white\", \"linecolor\": \"white\", \"minorgridcolor\": \"white\", \"startlinecolor\": \"#2a3f5f\"}, \"type\": \"carpet\"}], \"choropleth\": [{\"colorbar\": {\"outlinewidth\": 0, \"ticks\": \"\"}, \"type\": \"choropleth\"}], \"contour\": [{\"colorbar\": {\"outlinewidth\": 0, \"ticks\": \"\"}, \"colorscale\": [[0.0, \"#0d0887\"], [0.1111111111111111, \"#46039f\"], [0.2222222222222222, \"#7201a8\"], [0.3333333333333333, \"#9c179e\"], [0.4444444444444444, \"#bd3786\"], [0.5555555555555556, \"#d8576b\"], [0.6666666666666666, \"#ed7953\"], [0.7777777777777778, \"#fb9f3a\"], [0.8888888888888888, \"#fdca26\"], [1.0, \"#f0f921\"]], \"type\": \"contour\"}], \"contourcarpet\": [{\"colorbar\": {\"outlinewidth\": 0, \"ticks\": \"\"}, \"type\": \"contourcarpet\"}], \"heatmap\": [{\"colorbar\": {\"outlinewidth\": 0, \"ticks\": \"\"}, \"colorscale\": [[0.0, \"#0d0887\"], [0.1111111111111111, \"#46039f\"], [0.2222222222222222, \"#7201a8\"], [0.3333333333333333, \"#9c179e\"], [0.4444444444444444, \"#bd3786\"], [0.5555555555555556, \"#d8576b\"], [0.6666666666666666, \"#ed7953\"], [0.7777777777777778, \"#fb9f3a\"], [0.8888888888888888, \"#fdca26\"], [1.0, \"#f0f921\"]], \"type\": \"heatmap\"}], \"heatmapgl\": [{\"colorbar\": {\"outlinewidth\": 0, \"ticks\": \"\"}, \"colorscale\": [[0.0, \"#0d0887\"], [0.1111111111111111, \"#46039f\"], [0.2222222222222222, \"#7201a8\"], [0.3333333333333333, \"#9c179e\"], [0.4444444444444444, \"#bd3786\"], [0.5555555555555556, \"#d8576b\"], [0.6666666666666666, \"#ed7953\"], [0.7777777777777778, \"#fb9f3a\"], [0.8888888888888888, \"#fdca26\"], [1.0, \"#f0f921\"]], \"type\": \"heatmapgl\"}], \"histogram\": [{\"marker\": {\"colorbar\": {\"outlinewidth\": 0, \"ticks\": \"\"}}, \"type\": \"histogram\"}], \"histogram2d\": [{\"colorbar\": {\"outlinewidth\": 0, \"ticks\": \"\"}, \"colorscale\": [[0.0, \"#0d0887\"], [0.1111111111111111, \"#46039f\"], [0.2222222222222222, \"#7201a8\"], [0.3333333333333333, \"#9c179e\"], [0.4444444444444444, \"#bd3786\"], [0.5555555555555556, \"#d8576b\"], [0.6666666666666666, \"#ed7953\"], [0.7777777777777778, \"#fb9f3a\"], [0.8888888888888888, \"#fdca26\"], [1.0, \"#f0f921\"]], \"type\": \"histogram2d\"}], \"histogram2dcontour\": [{\"colorbar\": {\"outlinewidth\": 0, \"ticks\": \"\"}, \"colorscale\": [[0.0, \"#0d0887\"], [0.1111111111111111, \"#46039f\"], [0.2222222222222222, \"#7201a8\"], [0.3333333333333333, \"#9c179e\"], [0.4444444444444444, \"#bd3786\"], [0.5555555555555556, \"#d8576b\"], [0.6666666666666666, \"#ed7953\"], [0.7777777777777778, \"#fb9f3a\"], [0.8888888888888888, \"#fdca26\"], [1.0, \"#f0f921\"]], \"type\": \"histogram2dcontour\"}], \"mesh3d\": [{\"colorbar\": {\"outlinewidth\": 0, \"ticks\": \"\"}, \"type\": \"mesh3d\"}], \"parcoords\": [{\"line\": {\"colorbar\": {\"outlinewidth\": 0, \"ticks\": \"\"}}, \"type\": \"parcoords\"}], \"pie\": [{\"automargin\": true, \"type\": \"pie\"}], \"scatter\": [{\"marker\": {\"colorbar\": {\"outlinewidth\": 0, \"ticks\": \"\"}}, \"type\": \"scatter\"}], \"scatter3d\": [{\"line\": {\"colorbar\": {\"outlinewidth\": 0, \"ticks\": \"\"}}, \"marker\": {\"colorbar\": {\"outlinewidth\": 0, \"ticks\": \"\"}}, \"type\": \"scatter3d\"}], \"scattercarpet\": [{\"marker\": {\"colorbar\": {\"outlinewidth\": 0, \"ticks\": \"\"}}, \"type\": \"scattercarpet\"}], \"scattergeo\": [{\"marker\": {\"colorbar\": {\"outlinewidth\": 0, \"ticks\": \"\"}}, \"type\": \"scattergeo\"}], \"scattergl\": [{\"marker\": {\"colorbar\": {\"outlinewidth\": 0, \"ticks\": \"\"}}, \"type\": \"scattergl\"}], \"scattermapbox\": [{\"marker\": {\"colorbar\": {\"outlinewidth\": 0, \"ticks\": \"\"}}, \"type\": \"scattermapbox\"}], \"scatterpolar\": [{\"marker\": {\"colorbar\": {\"outlinewidth\": 0, \"ticks\": \"\"}}, \"type\": \"scatterpolar\"}], \"scatterpolargl\": [{\"marker\": {\"colorbar\": {\"outlinewidth\": 0, \"ticks\": \"\"}}, \"type\": \"scatterpolargl\"}], \"scatterternary\": [{\"marker\": {\"colorbar\": {\"outlinewidth\": 0, \"ticks\": \"\"}}, \"type\": \"scatterternary\"}], \"surface\": [{\"colorbar\": {\"outlinewidth\": 0, \"ticks\": \"\"}, \"colorscale\": [[0.0, \"#0d0887\"], [0.1111111111111111, \"#46039f\"], [0.2222222222222222, \"#7201a8\"], [0.3333333333333333, \"#9c179e\"], [0.4444444444444444, \"#bd3786\"], [0.5555555555555556, \"#d8576b\"], [0.6666666666666666, \"#ed7953\"], [0.7777777777777778, \"#fb9f3a\"], [0.8888888888888888, \"#fdca26\"], [1.0, \"#f0f921\"]], \"type\": \"surface\"}], \"table\": [{\"cells\": {\"fill\": {\"color\": \"#EBF0F8\"}, \"line\": {\"color\": \"white\"}}, \"header\": {\"fill\": {\"color\": \"#C8D4E3\"}, \"line\": {\"color\": \"white\"}}, \"type\": \"table\"}]}, \"layout\": {\"annotationdefaults\": {\"arrowcolor\": \"#2a3f5f\", \"arrowhead\": 0, \"arrowwidth\": 1}, \"coloraxis\": {\"colorbar\": {\"outlinewidth\": 0, \"ticks\": \"\"}}, \"colorscale\": {\"diverging\": [[0, \"#8e0152\"], [0.1, \"#c51b7d\"], [0.2, \"#de77ae\"], [0.3, \"#f1b6da\"], [0.4, \"#fde0ef\"], [0.5, \"#f7f7f7\"], [0.6, \"#e6f5d0\"], [0.7, \"#b8e186\"], [0.8, \"#7fbc41\"], [0.9, \"#4d9221\"], [1, \"#276419\"]], \"sequential\": [[0.0, \"#0d0887\"], [0.1111111111111111, \"#46039f\"], [0.2222222222222222, \"#7201a8\"], [0.3333333333333333, \"#9c179e\"], [0.4444444444444444, \"#bd3786\"], [0.5555555555555556, \"#d8576b\"], [0.6666666666666666, \"#ed7953\"], [0.7777777777777778, \"#fb9f3a\"], [0.8888888888888888, \"#fdca26\"], [1.0, \"#f0f921\"]], \"sequentialminus\": [[0.0, \"#0d0887\"], [0.1111111111111111, \"#46039f\"], [0.2222222222222222, \"#7201a8\"], [0.3333333333333333, \"#9c179e\"], [0.4444444444444444, \"#bd3786\"], [0.5555555555555556, \"#d8576b\"], [0.6666666666666666, \"#ed7953\"], [0.7777777777777778, \"#fb9f3a\"], [0.8888888888888888, \"#fdca26\"], [1.0, \"#f0f921\"]]}, \"colorway\": [\"#636efa\", \"#EF553B\", \"#00cc96\", \"#ab63fa\", \"#FFA15A\", \"#19d3f3\", \"#FF6692\", \"#B6E880\", \"#FF97FF\", \"#FECB52\"], \"font\": {\"color\": \"#2a3f5f\"}, \"geo\": {\"bgcolor\": \"white\", \"lakecolor\": \"white\", \"landcolor\": \"#E5ECF6\", \"showlakes\": true, \"showland\": true, \"subunitcolor\": \"white\"}, \"hoverlabel\": {\"align\": \"left\"}, \"hovermode\": \"closest\", \"mapbox\": {\"style\": \"light\"}, \"paper_bgcolor\": \"white\", \"plot_bgcolor\": \"#E5ECF6\", \"polar\": {\"angularaxis\": {\"gridcolor\": \"white\", \"linecolor\": \"white\", \"ticks\": \"\"}, \"bgcolor\": \"#E5ECF6\", \"radialaxis\": {\"gridcolor\": \"white\", \"linecolor\": \"white\", \"ticks\": \"\"}}, \"scene\": {\"xaxis\": {\"backgroundcolor\": \"#E5ECF6\", \"gridcolor\": \"white\", \"gridwidth\": 2, \"linecolor\": \"white\", \"showbackground\": true, \"ticks\": \"\", \"zerolinecolor\": \"white\"}, \"yaxis\": {\"backgroundcolor\": \"#E5ECF6\", \"gridcolor\": \"white\", \"gridwidth\": 2, \"linecolor\": \"white\", \"showbackground\": true, \"ticks\": \"\", \"zerolinecolor\": \"white\"}, \"zaxis\": {\"backgroundcolor\": \"#E5ECF6\", \"gridcolor\": \"white\", \"gridwidth\": 2, \"linecolor\": \"white\", \"showbackground\": true, \"ticks\": \"\", \"zerolinecolor\": \"white\"}}, \"shapedefaults\": {\"line\": {\"color\": \"#2a3f5f\"}}, \"ternary\": {\"aaxis\": {\"gridcolor\": \"white\", \"linecolor\": \"white\", \"ticks\": \"\"}, \"baxis\": {\"gridcolor\": \"white\", \"linecolor\": \"white\", \"ticks\": \"\"}, \"bgcolor\": \"#E5ECF6\", \"caxis\": {\"gridcolor\": \"white\", \"linecolor\": \"white\", \"ticks\": \"\"}}, \"title\": {\"x\": 0.05}, \"xaxis\": {\"automargin\": true, \"gridcolor\": \"white\", \"linecolor\": \"white\", \"ticks\": \"\", \"title\": {\"standoff\": 15}, \"zerolinecolor\": \"white\", \"zerolinewidth\": 2}, \"yaxis\": {\"automargin\": true, \"gridcolor\": \"white\", \"linecolor\": \"white\", \"ticks\": \"\", \"title\": {\"standoff\": 15}, \"zerolinecolor\": \"white\", \"zerolinewidth\": 2}}}, \"xaxis\": {\"anchor\": \"y\", \"domain\": [0.0, 1.0]}, \"yaxis\": {\"anchor\": \"x\", \"domain\": [0.0, 1.0], \"title\": {\"text\": \"Close\"}}},\n",
              "                        {\"responsive\": true}\n",
              "                    ).then(function(){\n",
              "                            \n",
              "var gd = document.getElementById('e7dd1d8f-94d9-440b-a57a-c2fab40d7fcb');\n",
              "var x = new MutationObserver(function (mutations, observer) {{\n",
              "        var display = window.getComputedStyle(gd).display;\n",
              "        if (!display || display === 'none') {{\n",
              "            console.log([gd, 'removed!']);\n",
              "            Plotly.purge(gd);\n",
              "            observer.disconnect();\n",
              "        }}\n",
              "}});\n",
              "\n",
              "// Listen for the removal of the full notebook cells\n",
              "var notebookContainer = gd.closest('#notebook-container');\n",
              "if (notebookContainer) {{\n",
              "    x.observe(notebookContainer, {childList: true});\n",
              "}}\n",
              "\n",
              "// Listen for the clearing of the current output cell\n",
              "var outputEl = gd.closest('.output');\n",
              "if (outputEl) {{\n",
              "    x.observe(outputEl, {childList: true});\n",
              "}}\n",
              "\n",
              "                        })\n",
              "                };\n",
              "                \n",
              "            </script>\n",
              "        </div>\n",
              "</body>\n",
              "</html>"
            ]
          },
          "metadata": {}
        }
      ]
    },
    {
      "cell_type": "code",
      "metadata": {
        "id": "Wr0QEYDM9AyV"
      },
      "source": [
        ""
      ],
      "execution_count": null,
      "outputs": []
    },
    {
      "cell_type": "markdown",
      "metadata": {
        "id": "kkljOEhbcmXW"
      },
      "source": [
        "# Understanding Facebook Prophet"
      ]
    },
    {
      "cell_type": "markdown",
      "metadata": {
        "id": "VXv_Vi7c9cAb"
      },
      "source": [
        "![Facebook Prophet.jpg](data:image/jpeg;base64,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)"
      ]
    },
    {
      "cell_type": "markdown",
      "metadata": {
        "id": "ASIJnLjScv9B"
      },
      "source": [
        "## Data Preperation"
      ]
    },
    {
      "cell_type": "code",
      "metadata": {
        "id": "8VU3NvfDczau",
        "colab": {
          "base_uri": "https://localhost:8080/"
        },
        "outputId": "67d85bf3-9a36-446f-ce77-7fbed938bb0d"
      },
      "source": [
        "df"
      ],
      "execution_count": null,
      "outputs": [
        {
          "output_type": "execute_result",
          "data": {
            "text/html": [
              "<div>\n",
              "<style scoped>\n",
              "    .dataframe tbody tr th:only-of-type {\n",
              "        vertical-align: middle;\n",
              "    }\n",
              "\n",
              "    .dataframe tbody tr th {\n",
              "        vertical-align: top;\n",
              "    }\n",
              "\n",
              "    .dataframe thead th {\n",
              "        text-align: right;\n",
              "    }\n",
              "</style>\n",
              "<table border=\"1\" class=\"dataframe\">\n",
              "  <thead>\n",
              "    <tr style=\"text-align: right;\">\n",
              "      <th></th>\n",
              "      <th>Date</th>\n",
              "      <th>Open</th>\n",
              "      <th>High</th>\n",
              "      <th>Low</th>\n",
              "      <th>Close</th>\n",
              "      <th>Adj Close</th>\n",
              "      <th>Volume</th>\n",
              "    </tr>\n",
              "  </thead>\n",
              "  <tbody>\n",
              "    <tr>\n",
              "      <th>0</th>\n",
              "      <td>2020-11-23</td>\n",
              "      <td>432.010010</td>\n",
              "      <td>436.513000</td>\n",
              "      <td>417.880005</td>\n",
              "      <td>430.279999</td>\n",
              "      <td>430.279999</td>\n",
              "      <td>8486000</td>\n",
              "    </tr>\n",
              "    <tr>\n",
              "      <th>1</th>\n",
              "      <td>2020-11-24</td>\n",
              "      <td>421.505005</td>\n",
              "      <td>438.832001</td>\n",
              "      <td>420.010010</td>\n",
              "      <td>427.549988</td>\n",
              "      <td>427.549988</td>\n",
              "      <td>6148400</td>\n",
              "    </tr>\n",
              "    <tr>\n",
              "      <th>2</th>\n",
              "      <td>2020-11-25</td>\n",
              "      <td>435.850006</td>\n",
              "      <td>448.480011</td>\n",
              "      <td>433.329987</td>\n",
              "      <td>443.720001</td>\n",
              "      <td>443.720001</td>\n",
              "      <td>8763700</td>\n",
              "    </tr>\n",
              "    <tr>\n",
              "      <th>3</th>\n",
              "      <td>2020-11-27</td>\n",
              "      <td>453.989990</td>\n",
              "      <td>472.040009</td>\n",
              "      <td>449.000000</td>\n",
              "      <td>471.609985</td>\n",
              "      <td>471.609985</td>\n",
              "      <td>7276400</td>\n",
              "    </tr>\n",
              "    <tr>\n",
              "      <th>4</th>\n",
              "      <td>2020-11-30</td>\n",
              "      <td>485.700012</td>\n",
              "      <td>486.829987</td>\n",
              "      <td>460.000000</td>\n",
              "      <td>478.359985</td>\n",
              "      <td>478.359985</td>\n",
              "      <td>16646500</td>\n",
              "    </tr>\n",
              "    <tr>\n",
              "      <th>...</th>\n",
              "      <td>...</td>\n",
              "      <td>...</td>\n",
              "      <td>...</td>\n",
              "      <td>...</td>\n",
              "      <td>...</td>\n",
              "      <td>...</td>\n",
              "      <td>...</td>\n",
              "    </tr>\n",
              "    <tr>\n",
              "      <th>246</th>\n",
              "      <td>2021-11-15</td>\n",
              "      <td>255.000000</td>\n",
              "      <td>265.329987</td>\n",
              "      <td>255.000000</td>\n",
              "      <td>263.709991</td>\n",
              "      <td>263.709991</td>\n",
              "      <td>3994900</td>\n",
              "    </tr>\n",
              "    <tr>\n",
              "      <th>247</th>\n",
              "      <td>2021-11-16</td>\n",
              "      <td>263.000000</td>\n",
              "      <td>268.880005</td>\n",
              "      <td>261.209991</td>\n",
              "      <td>264.489990</td>\n",
              "      <td>264.489990</td>\n",
              "      <td>1972000</td>\n",
              "    </tr>\n",
              "    <tr>\n",
              "      <th>248</th>\n",
              "      <td>2021-11-17</td>\n",
              "      <td>264.000000</td>\n",
              "      <td>266.190002</td>\n",
              "      <td>261.519989</td>\n",
              "      <td>263.709991</td>\n",
              "      <td>263.709991</td>\n",
              "      <td>2417300</td>\n",
              "    </tr>\n",
              "    <tr>\n",
              "      <th>249</th>\n",
              "      <td>2021-11-18</td>\n",
              "      <td>260.880005</td>\n",
              "      <td>263.500000</td>\n",
              "      <td>254.580002</td>\n",
              "      <td>255.750000</td>\n",
              "      <td>255.750000</td>\n",
              "      <td>2353700</td>\n",
              "    </tr>\n",
              "    <tr>\n",
              "      <th>250</th>\n",
              "      <td>2021-11-19</td>\n",
              "      <td>262.239990</td>\n",
              "      <td>265.230011</td>\n",
              "      <td>249.330002</td>\n",
              "      <td>251.300003</td>\n",
              "      <td>251.300003</td>\n",
              "      <td>3877500</td>\n",
              "    </tr>\n",
              "  </tbody>\n",
              "</table>\n",
              "<p>251 rows × 7 columns</p>\n",
              "</div>"
            ],
            "text/plain": [
              "           Date        Open        High  ...       Close   Adj Close    Volume\n",
              "0    2020-11-23  432.010010  436.513000  ...  430.279999  430.279999   8486000\n",
              "1    2020-11-24  421.505005  438.832001  ...  427.549988  427.549988   6148400\n",
              "2    2020-11-25  435.850006  448.480011  ...  443.720001  443.720001   8763700\n",
              "3    2020-11-27  453.989990  472.040009  ...  471.609985  471.609985   7276400\n",
              "4    2020-11-30  485.700012  486.829987  ...  478.359985  478.359985  16646500\n",
              "..          ...         ...         ...  ...         ...         ...       ...\n",
              "246  2021-11-15  255.000000  265.329987  ...  263.709991  263.709991   3994900\n",
              "247  2021-11-16  263.000000  268.880005  ...  264.489990  264.489990   1972000\n",
              "248  2021-11-17  264.000000  266.190002  ...  263.709991  263.709991   2417300\n",
              "249  2021-11-18  260.880005  263.500000  ...  255.750000  255.750000   2353700\n",
              "250  2021-11-19  262.239990  265.230011  ...  251.300003  251.300003   3877500\n",
              "\n",
              "[251 rows x 7 columns]"
            ]
          },
          "metadata": {},
          "execution_count": 17
        }
      ]
    },
    {
      "cell_type": "code",
      "metadata": {
        "id": "sO8g9RCI95Xe"
      },
      "source": [
        "columns=['Date','Close']\n",
        "ndf = pd.DataFrame(df, columns=columns)"
      ],
      "execution_count": null,
      "outputs": []
    },
    {
      "cell_type": "markdown",
      "metadata": {
        "id": "gJmiG8yqwUhb"
      },
      "source": [
        ""
      ]
    },
    {
      "cell_type": "code",
      "metadata": {
        "id": "nwNXc_RRwU3a",
        "colab": {
          "base_uri": "https://localhost:8080/"
        },
        "outputId": "137c5cce-74ee-431d-ff54-2da002631896"
      },
      "source": [
        "ndf"
      ],
      "execution_count": null,
      "outputs": [
        {
          "output_type": "execute_result",
          "data": {
            "text/html": [
              "<div>\n",
              "<style scoped>\n",
              "    .dataframe tbody tr th:only-of-type {\n",
              "        vertical-align: middle;\n",
              "    }\n",
              "\n",
              "    .dataframe tbody tr th {\n",
              "        vertical-align: top;\n",
              "    }\n",
              "\n",
              "    .dataframe thead th {\n",
              "        text-align: right;\n",
              "    }\n",
              "</style>\n",
              "<table border=\"1\" class=\"dataframe\">\n",
              "  <thead>\n",
              "    <tr style=\"text-align: right;\">\n",
              "      <th></th>\n",
              "      <th>Date</th>\n",
              "      <th>Close</th>\n",
              "    </tr>\n",
              "  </thead>\n",
              "  <tbody>\n",
              "    <tr>\n",
              "      <th>0</th>\n",
              "      <td>2020-11-23</td>\n",
              "      <td>430.279999</td>\n",
              "    </tr>\n",
              "    <tr>\n",
              "      <th>1</th>\n",
              "      <td>2020-11-24</td>\n",
              "      <td>427.549988</td>\n",
              "    </tr>\n",
              "    <tr>\n",
              "      <th>2</th>\n",
              "      <td>2020-11-25</td>\n",
              "      <td>443.720001</td>\n",
              "    </tr>\n",
              "    <tr>\n",
              "      <th>3</th>\n",
              "      <td>2020-11-27</td>\n",
              "      <td>471.609985</td>\n",
              "    </tr>\n",
              "    <tr>\n",
              "      <th>4</th>\n",
              "      <td>2020-11-30</td>\n",
              "      <td>478.359985</td>\n",
              "    </tr>\n",
              "    <tr>\n",
              "      <th>...</th>\n",
              "      <td>...</td>\n",
              "      <td>...</td>\n",
              "    </tr>\n",
              "    <tr>\n",
              "      <th>246</th>\n",
              "      <td>2021-11-15</td>\n",
              "      <td>263.709991</td>\n",
              "    </tr>\n",
              "    <tr>\n",
              "      <th>247</th>\n",
              "      <td>2021-11-16</td>\n",
              "      <td>264.489990</td>\n",
              "    </tr>\n",
              "    <tr>\n",
              "      <th>248</th>\n",
              "      <td>2021-11-17</td>\n",
              "      <td>263.709991</td>\n",
              "    </tr>\n",
              "    <tr>\n",
              "      <th>249</th>\n",
              "      <td>2021-11-18</td>\n",
              "      <td>255.750000</td>\n",
              "    </tr>\n",
              "    <tr>\n",
              "      <th>250</th>\n",
              "      <td>2021-11-19</td>\n",
              "      <td>251.300003</td>\n",
              "    </tr>\n",
              "  </tbody>\n",
              "</table>\n",
              "<p>251 rows × 2 columns</p>\n",
              "</div>"
            ],
            "text/plain": [
              "           Date       Close\n",
              "0    2020-11-23  430.279999\n",
              "1    2020-11-24  427.549988\n",
              "2    2020-11-25  443.720001\n",
              "3    2020-11-27  471.609985\n",
              "4    2020-11-30  478.359985\n",
              "..          ...         ...\n",
              "246  2021-11-15  263.709991\n",
              "247  2021-11-16  264.489990\n",
              "248  2021-11-17  263.709991\n",
              "249  2021-11-18  255.750000\n",
              "250  2021-11-19  251.300003\n",
              "\n",
              "[251 rows x 2 columns]"
            ]
          },
          "metadata": {},
          "execution_count": 19
        }
      ]
    },
    {
      "cell_type": "code",
      "metadata": {
        "id": "XGKLzn00wXf2"
      },
      "source": [
        "prophet_df = ndf.rename(columns={'Date':'ds', 'Close': 'y'})"
      ],
      "execution_count": null,
      "outputs": []
    },
    {
      "cell_type": "code",
      "metadata": {
        "id": "mJ5WVVq0wk-b",
        "colab": {
          "base_uri": "https://localhost:8080/"
        },
        "outputId": "a33e8a68-b9ef-4568-b9db-2ca51c134a34"
      },
      "source": [
        "prophet_df"
      ],
      "execution_count": null,
      "outputs": [
        {
          "output_type": "execute_result",
          "data": {
            "text/html": [
              "<div>\n",
              "<style scoped>\n",
              "    .dataframe tbody tr th:only-of-type {\n",
              "        vertical-align: middle;\n",
              "    }\n",
              "\n",
              "    .dataframe tbody tr th {\n",
              "        vertical-align: top;\n",
              "    }\n",
              "\n",
              "    .dataframe thead th {\n",
              "        text-align: right;\n",
              "    }\n",
              "</style>\n",
              "<table border=\"1\" class=\"dataframe\">\n",
              "  <thead>\n",
              "    <tr style=\"text-align: right;\">\n",
              "      <th></th>\n",
              "      <th>ds</th>\n",
              "      <th>y</th>\n",
              "    </tr>\n",
              "  </thead>\n",
              "  <tbody>\n",
              "    <tr>\n",
              "      <th>0</th>\n",
              "      <td>2020-11-23</td>\n",
              "      <td>430.279999</td>\n",
              "    </tr>\n",
              "    <tr>\n",
              "      <th>1</th>\n",
              "      <td>2020-11-24</td>\n",
              "      <td>427.549988</td>\n",
              "    </tr>\n",
              "    <tr>\n",
              "      <th>2</th>\n",
              "      <td>2020-11-25</td>\n",
              "      <td>443.720001</td>\n",
              "    </tr>\n",
              "    <tr>\n",
              "      <th>3</th>\n",
              "      <td>2020-11-27</td>\n",
              "      <td>471.609985</td>\n",
              "    </tr>\n",
              "    <tr>\n",
              "      <th>4</th>\n",
              "      <td>2020-11-30</td>\n",
              "      <td>478.359985</td>\n",
              "    </tr>\n",
              "    <tr>\n",
              "      <th>...</th>\n",
              "      <td>...</td>\n",
              "      <td>...</td>\n",
              "    </tr>\n",
              "    <tr>\n",
              "      <th>246</th>\n",
              "      <td>2021-11-15</td>\n",
              "      <td>263.709991</td>\n",
              "    </tr>\n",
              "    <tr>\n",
              "      <th>247</th>\n",
              "      <td>2021-11-16</td>\n",
              "      <td>264.489990</td>\n",
              "    </tr>\n",
              "    <tr>\n",
              "      <th>248</th>\n",
              "      <td>2021-11-17</td>\n",
              "      <td>263.709991</td>\n",
              "    </tr>\n",
              "    <tr>\n",
              "      <th>249</th>\n",
              "      <td>2021-11-18</td>\n",
              "      <td>255.750000</td>\n",
              "    </tr>\n",
              "    <tr>\n",
              "      <th>250</th>\n",
              "      <td>2021-11-19</td>\n",
              "      <td>251.300003</td>\n",
              "    </tr>\n",
              "  </tbody>\n",
              "</table>\n",
              "<p>251 rows × 2 columns</p>\n",
              "</div>"
            ],
            "text/plain": [
              "             ds           y\n",
              "0    2020-11-23  430.279999\n",
              "1    2020-11-24  427.549988\n",
              "2    2020-11-25  443.720001\n",
              "3    2020-11-27  471.609985\n",
              "4    2020-11-30  478.359985\n",
              "..          ...         ...\n",
              "246  2021-11-15  263.709991\n",
              "247  2021-11-16  264.489990\n",
              "248  2021-11-17  263.709991\n",
              "249  2021-11-18  255.750000\n",
              "250  2021-11-19  251.300003\n",
              "\n",
              "[251 rows x 2 columns]"
            ]
          },
          "metadata": {},
          "execution_count": 21
        }
      ]
    },
    {
      "cell_type": "markdown",
      "metadata": {
        "id": "j57-ly4Jc5va"
      },
      "source": [
        "## Creating Facebook Prophet Model"
      ]
    },
    {
      "cell_type": "code",
      "metadata": {
        "id": "GdFXAfTFc7iw",
        "colab": {
          "base_uri": "https://localhost:8080/"
        },
        "outputId": "8d0640e4-b8fb-4b35-c894-04a498704ac2"
      },
      "source": [
        "m=Prophet()\n",
        "m.fit(prophet_df)"
      ],
      "execution_count": null,
      "outputs": [
        {
          "output_type": "stream",
          "name": "stderr",
          "text": [
            "INFO:numexpr.utils:NumExpr defaulting to 2 threads.\n",
            "INFO:fbprophet:Disabling yearly seasonality. Run prophet with yearly_seasonality=True to override this.\n",
            "INFO:fbprophet:Disabling daily seasonality. Run prophet with daily_seasonality=True to override this.\n"
          ]
        },
        {
          "output_type": "execute_result",
          "data": {
            "text/plain": [
              "<fbprophet.forecaster.Prophet at 0x7eff6a679cd0>"
            ]
          },
          "metadata": {},
          "execution_count": 22
        }
      ]
    },
    {
      "cell_type": "code",
      "metadata": {
        "id": "Lcsf6qQTSRFK"
      },
      "source": [
        ""
      ],
      "execution_count": null,
      "outputs": []
    },
    {
      "cell_type": "markdown",
      "metadata": {
        "id": "T-0eY9xOdA4S"
      },
      "source": [
        "##Forecasting"
      ]
    },
    {
      "cell_type": "code",
      "metadata": {
        "id": "qGPpV0kmdCjh"
      },
      "source": [
        "future=m.make_future_dataframe(periods=30)\n",
        "forecast=m.predict(future)"
      ],
      "execution_count": null,
      "outputs": []
    },
    {
      "cell_type": "markdown",
      "metadata": {
        "id": "1QUpMYamxMmb"
      },
      "source": [
        ""
      ]
    },
    {
      "cell_type": "code",
      "metadata": {
        "id": "JzPozfvMDUUX",
        "colab": {
          "base_uri": "https://localhost:8080/",
          "height": 617
        },
        "outputId": "d39d9d55-5b2b-4d19-ae66-9dbb3f42548b"
      },
      "source": [
        "forecast"
      ],
      "execution_count": null,
      "outputs": [
        {
          "output_type": "execute_result",
          "data": {
            "text/html": [
              "<div>\n",
              "<style scoped>\n",
              "    .dataframe tbody tr th:only-of-type {\n",
              "        vertical-align: middle;\n",
              "    }\n",
              "\n",
              "    .dataframe tbody tr th {\n",
              "        vertical-align: top;\n",
              "    }\n",
              "\n",
              "    .dataframe thead th {\n",
              "        text-align: right;\n",
              "    }\n",
              "</style>\n",
              "<table border=\"1\" class=\"dataframe\">\n",
              "  <thead>\n",
              "    <tr style=\"text-align: right;\">\n",
              "      <th></th>\n",
              "      <th>ds</th>\n",
              "      <th>trend</th>\n",
              "      <th>yhat_lower</th>\n",
              "      <th>yhat_upper</th>\n",
              "      <th>trend_lower</th>\n",
              "      <th>trend_upper</th>\n",
              "      <th>additive_terms</th>\n",
              "      <th>additive_terms_lower</th>\n",
              "      <th>additive_terms_upper</th>\n",
              "      <th>weekly</th>\n",
              "      <th>weekly_lower</th>\n",
              "      <th>weekly_upper</th>\n",
              "      <th>multiplicative_terms</th>\n",
              "      <th>multiplicative_terms_lower</th>\n",
              "      <th>multiplicative_terms_upper</th>\n",
              "      <th>yhat</th>\n",
              "    </tr>\n",
              "  </thead>\n",
              "  <tbody>\n",
              "    <tr>\n",
              "      <th>0</th>\n",
              "      <td>2020-11-23</td>\n",
              "      <td>418.689643</td>\n",
              "      <td>386.348082</td>\n",
              "      <td>450.653593</td>\n",
              "      <td>418.689643</td>\n",
              "      <td>418.689643</td>\n",
              "      <td>-1.354196</td>\n",
              "      <td>-1.354196</td>\n",
              "      <td>-1.354196</td>\n",
              "      <td>-1.354196</td>\n",
              "      <td>-1.354196</td>\n",
              "      <td>-1.354196</td>\n",
              "      <td>0.0</td>\n",
              "      <td>0.0</td>\n",
              "      <td>0.0</td>\n",
              "      <td>417.335446</td>\n",
              "    </tr>\n",
              "    <tr>\n",
              "      <th>1</th>\n",
              "      <td>2020-11-24</td>\n",
              "      <td>418.082834</td>\n",
              "      <td>385.082111</td>\n",
              "      <td>446.464270</td>\n",
              "      <td>418.082834</td>\n",
              "      <td>418.082834</td>\n",
              "      <td>-1.190655</td>\n",
              "      <td>-1.190655</td>\n",
              "      <td>-1.190655</td>\n",
              "      <td>-1.190655</td>\n",
              "      <td>-1.190655</td>\n",
              "      <td>-1.190655</td>\n",
              "      <td>0.0</td>\n",
              "      <td>0.0</td>\n",
              "      <td>0.0</td>\n",
              "      <td>416.892179</td>\n",
              "    </tr>\n",
              "    <tr>\n",
              "      <th>2</th>\n",
              "      <td>2020-11-25</td>\n",
              "      <td>417.476025</td>\n",
              "      <td>382.303971</td>\n",
              "      <td>445.593271</td>\n",
              "      <td>417.476025</td>\n",
              "      <td>417.476025</td>\n",
              "      <td>-4.778045</td>\n",
              "      <td>-4.778045</td>\n",
              "      <td>-4.778045</td>\n",
              "      <td>-4.778045</td>\n",
              "      <td>-4.778045</td>\n",
              "      <td>-4.778045</td>\n",
              "      <td>0.0</td>\n",
              "      <td>0.0</td>\n",
              "      <td>0.0</td>\n",
              "      <td>412.697981</td>\n",
              "    </tr>\n",
              "    <tr>\n",
              "      <th>3</th>\n",
              "      <td>2020-11-27</td>\n",
              "      <td>416.262408</td>\n",
              "      <td>384.414129</td>\n",
              "      <td>449.520359</td>\n",
              "      <td>416.262408</td>\n",
              "      <td>416.262408</td>\n",
              "      <td>0.695304</td>\n",
              "      <td>0.695304</td>\n",
              "      <td>0.695304</td>\n",
              "      <td>0.695304</td>\n",
              "      <td>0.695304</td>\n",
              "      <td>0.695304</td>\n",
              "      <td>0.0</td>\n",
              "      <td>0.0</td>\n",
              "      <td>0.0</td>\n",
              "      <td>416.957712</td>\n",
              "    </tr>\n",
              "    <tr>\n",
              "      <th>4</th>\n",
              "      <td>2020-11-30</td>\n",
              "      <td>414.441982</td>\n",
              "      <td>383.382841</td>\n",
              "      <td>446.211525</td>\n",
              "      <td>414.441982</td>\n",
              "      <td>414.441982</td>\n",
              "      <td>-1.354196</td>\n",
              "      <td>-1.354196</td>\n",
              "      <td>-1.354196</td>\n",
              "      <td>-1.354196</td>\n",
              "      <td>-1.354196</td>\n",
              "      <td>-1.354196</td>\n",
              "      <td>0.0</td>\n",
              "      <td>0.0</td>\n",
              "      <td>0.0</td>\n",
              "      <td>413.087786</td>\n",
              "    </tr>\n",
              "    <tr>\n",
              "      <th>...</th>\n",
              "      <td>...</td>\n",
              "      <td>...</td>\n",
              "      <td>...</td>\n",
              "      <td>...</td>\n",
              "      <td>...</td>\n",
              "      <td>...</td>\n",
              "      <td>...</td>\n",
              "      <td>...</td>\n",
              "      <td>...</td>\n",
              "      <td>...</td>\n",
              "      <td>...</td>\n",
              "      <td>...</td>\n",
              "      <td>...</td>\n",
              "      <td>...</td>\n",
              "      <td>...</td>\n",
              "      <td>...</td>\n",
              "    </tr>\n",
              "    <tr>\n",
              "      <th>276</th>\n",
              "      <td>2021-12-15</td>\n",
              "      <td>215.294362</td>\n",
              "      <td>178.060167</td>\n",
              "      <td>242.066992</td>\n",
              "      <td>212.000886</td>\n",
              "      <td>218.566963</td>\n",
              "      <td>-4.778045</td>\n",
              "      <td>-4.778045</td>\n",
              "      <td>-4.778045</td>\n",
              "      <td>-4.778045</td>\n",
              "      <td>-4.778045</td>\n",
              "      <td>-4.778045</td>\n",
              "      <td>0.0</td>\n",
              "      <td>0.0</td>\n",
              "      <td>0.0</td>\n",
              "      <td>210.516317</td>\n",
              "    </tr>\n",
              "    <tr>\n",
              "      <th>277</th>\n",
              "      <td>2021-12-16</td>\n",
              "      <td>214.252381</td>\n",
              "      <td>179.099309</td>\n",
              "      <td>242.933499</td>\n",
              "      <td>210.738740</td>\n",
              "      <td>217.758087</td>\n",
              "      <td>-4.245373</td>\n",
              "      <td>-4.245373</td>\n",
              "      <td>-4.245373</td>\n",
              "      <td>-4.245373</td>\n",
              "      <td>-4.245373</td>\n",
              "      <td>-4.245373</td>\n",
              "      <td>0.0</td>\n",
              "      <td>0.0</td>\n",
              "      <td>0.0</td>\n",
              "      <td>210.007008</td>\n",
              "    </tr>\n",
              "    <tr>\n",
              "      <th>278</th>\n",
              "      <td>2021-12-17</td>\n",
              "      <td>213.210400</td>\n",
              "      <td>182.104851</td>\n",
              "      <td>245.055345</td>\n",
              "      <td>209.516681</td>\n",
              "      <td>217.115391</td>\n",
              "      <td>0.695304</td>\n",
              "      <td>0.695304</td>\n",
              "      <td>0.695304</td>\n",
              "      <td>0.695304</td>\n",
              "      <td>0.695304</td>\n",
              "      <td>0.695304</td>\n",
              "      <td>0.0</td>\n",
              "      <td>0.0</td>\n",
              "      <td>0.0</td>\n",
              "      <td>213.905704</td>\n",
              "    </tr>\n",
              "    <tr>\n",
              "      <th>279</th>\n",
              "      <td>2021-12-18</td>\n",
              "      <td>212.168419</td>\n",
              "      <td>184.495806</td>\n",
              "      <td>249.756939</td>\n",
              "      <td>208.223824</td>\n",
              "      <td>216.259401</td>\n",
              "      <td>5.436483</td>\n",
              "      <td>5.436483</td>\n",
              "      <td>5.436483</td>\n",
              "      <td>5.436483</td>\n",
              "      <td>5.436483</td>\n",
              "      <td>5.436483</td>\n",
              "      <td>0.0</td>\n",
              "      <td>0.0</td>\n",
              "      <td>0.0</td>\n",
              "      <td>217.604901</td>\n",
              "    </tr>\n",
              "    <tr>\n",
              "      <th>280</th>\n",
              "      <td>2021-12-19</td>\n",
              "      <td>211.126438</td>\n",
              "      <td>183.524618</td>\n",
              "      <td>247.574772</td>\n",
              "      <td>206.818616</td>\n",
              "      <td>215.511326</td>\n",
              "      <td>5.436483</td>\n",
              "      <td>5.436483</td>\n",
              "      <td>5.436483</td>\n",
              "      <td>5.436483</td>\n",
              "      <td>5.436483</td>\n",
              "      <td>5.436483</td>\n",
              "      <td>0.0</td>\n",
              "      <td>0.0</td>\n",
              "      <td>0.0</td>\n",
              "      <td>216.562920</td>\n",
              "    </tr>\n",
              "  </tbody>\n",
              "</table>\n",
              "<p>281 rows × 16 columns</p>\n",
              "</div>"
            ],
            "text/plain": [
              "            ds       trend  ...  multiplicative_terms_upper        yhat\n",
              "0   2020-11-23  418.689643  ...                         0.0  417.335446\n",
              "1   2020-11-24  418.082834  ...                         0.0  416.892179\n",
              "2   2020-11-25  417.476025  ...                         0.0  412.697981\n",
              "3   2020-11-27  416.262408  ...                         0.0  416.957712\n",
              "4   2020-11-30  414.441982  ...                         0.0  413.087786\n",
              "..         ...         ...  ...                         ...         ...\n",
              "276 2021-12-15  215.294362  ...                         0.0  210.516317\n",
              "277 2021-12-16  214.252381  ...                         0.0  210.007008\n",
              "278 2021-12-17  213.210400  ...                         0.0  213.905704\n",
              "279 2021-12-18  212.168419  ...                         0.0  217.604901\n",
              "280 2021-12-19  211.126438  ...                         0.0  216.562920\n",
              "\n",
              "[281 rows x 16 columns]"
            ]
          },
          "metadata": {},
          "execution_count": 24
        }
      ]
    },
    {
      "cell_type": "code",
      "metadata": {
        "id": "19-Qc5qDdH8K",
        "colab": {
          "base_uri": "https://localhost:8080/",
          "height": 542
        },
        "outputId": "a2563501-38c6-44a3-d98b-0b91e0c216c8"
      },
      "source": [
        "px.line(forecast,x='ds',y='yhat')"
      ],
      "execution_count": null,
      "outputs": [
        {
          "output_type": "display_data",
          "data": {
            "text/html": [
              "<html>\n",
              "<head><meta charset=\"utf-8\" /></head>\n",
              "<body>\n",
              "    <div>\n",
              "            <script src=\"https://cdnjs.cloudflare.com/ajax/libs/mathjax/2.7.5/MathJax.js?config=TeX-AMS-MML_SVG\"></script><script type=\"text/javascript\">if (window.MathJax) {MathJax.Hub.Config({SVG: {font: \"STIX-Web\"}});}</script>\n",
              "                <script type=\"text/javascript\">window.PlotlyConfig = {MathJaxConfig: 'local'};</script>\n",
              "        <script src=\"https://cdn.plot.ly/plotly-latest.min.js\"></script>    \n",
              "            <div id=\"98fe7d41-3c0e-4e27-98cc-f4261fd7d11b\" class=\"plotly-graph-div\" style=\"height:525px; width:100%;\"></div>\n",
              "            <script type=\"text/javascript\">\n",
              "                \n",
              "                    window.PLOTLYENV=window.PLOTLYENV || {};\n",
              "                    \n",
              "                if (document.getElementById(\"98fe7d41-3c0e-4e27-98cc-f4261fd7d11b\")) {\n",
              "                    Plotly.newPlot(\n",
              "                        '98fe7d41-3c0e-4e27-98cc-f4261fd7d11b',\n",
              "                        [{\"hoverlabel\": {\"namelength\": 0}, \"hovertemplate\": \"ds=%{x}<br>yhat=%{y}\", \"legendgroup\": \"\", \"line\": {\"color\": \"#636efa\", \"dash\": \"solid\"}, \"mode\": \"lines\", \"name\": \"\", \"showlegend\": false, \"type\": \"scatter\", \"x\": [\"2020-11-23T00:00:00\", \"2020-11-24T00:00:00\", \"2020-11-25T00:00:00\", \"2020-11-27T00:00:00\", \"2020-11-30T00:00:00\", \"2020-12-01T00:00:00\", \"2020-12-02T00:00:00\", \"2020-12-03T00:00:00\", \"2020-12-04T00:00:00\", \"2020-12-07T00:00:00\", \"2020-12-08T00:00:00\", \"2020-12-09T00:00:00\", \"2020-12-10T00:00:00\", \"2020-12-11T00:00:00\", \"2020-12-14T00:00:00\", \"2020-12-15T00:00:00\", \"2020-12-16T00:00:00\", \"2020-12-17T00:00:00\", \"2020-12-18T00:00:00\", \"2020-12-21T00:00:00\", \"2020-12-22T00:00:00\", \"2020-12-23T00:00:00\", \"2020-12-24T00:00:00\", \"2020-12-28T00:00:00\", \"2020-12-29T00:00:00\", \"2020-12-30T00:00:00\", \"2020-12-31T00:00:00\", \"2021-01-04T00:00:00\", \"2021-01-05T00:00:00\", \"2021-01-06T00:00:00\", \"2021-01-07T00:00:00\", \"2021-01-08T00:00:00\", \"2021-01-11T00:00:00\", \"2021-01-12T00:00:00\", \"2021-01-13T00:00:00\", \"2021-01-14T00:00:00\", \"2021-01-15T00:00:00\", \"2021-01-19T00:00:00\", \"2021-01-20T00:00:00\", \"2021-01-21T00:00:00\", \"2021-01-22T00:00:00\", \"2021-01-25T00:00:00\", \"2021-01-26T00:00:00\", \"2021-01-27T00:00:00\", \"2021-01-28T00:00:00\", \"2021-01-29T00:00:00\", \"2021-02-01T00:00:00\", \"2021-02-02T00:00:00\", \"2021-02-03T00:00:00\", \"2021-02-04T00:00:00\", \"2021-02-05T00:00:00\", \"2021-02-08T00:00:00\", \"2021-02-09T00:00:00\", \"2021-02-10T00:00:00\", \"2021-02-11T00:00:00\", \"2021-02-12T00:00:00\", \"2021-02-16T00:00:00\", \"2021-02-17T00:00:00\", \"2021-02-18T00:00:00\", \"2021-02-19T00:00:00\", \"2021-02-22T00:00:00\", \"2021-02-23T00:00:00\", \"2021-02-24T00:00:00\", \"2021-02-25T00:00:00\", \"2021-02-26T00:00:00\", \"2021-03-01T00:00:00\", \"2021-03-02T00:00:00\", \"2021-03-03T00:00:00\", \"2021-03-04T00:00:00\", \"2021-03-05T00:00:00\", \"2021-03-08T00:00:00\", \"2021-03-09T00:00:00\", \"2021-03-10T00:00:00\", \"2021-03-11T00:00:00\", \"2021-03-12T00:00:00\", \"2021-03-15T00:00:00\", \"2021-03-16T00:00:00\", \"2021-03-17T00:00:00\", \"2021-03-18T00:00:00\", \"2021-03-19T00:00:00\", \"2021-03-22T00:00:00\", \"2021-03-23T00:00:00\", \"2021-03-24T00:00:00\", \"2021-03-25T00:00:00\", \"2021-03-26T00:00:00\", \"2021-03-29T00:00:00\", \"2021-03-30T00:00:00\", \"2021-03-31T00:00:00\", \"2021-04-01T00:00:00\", \"2021-04-05T00:00:00\", \"2021-04-06T00:00:00\", \"2021-04-07T00:00:00\", \"2021-04-08T00:00:00\", \"2021-04-09T00:00:00\", \"2021-04-12T00:00:00\", \"2021-04-13T00:00:00\", \"2021-04-14T00:00:00\", \"2021-04-15T00:00:00\", \"2021-04-16T00:00:00\", \"2021-04-19T00:00:00\", \"2021-04-20T00:00:00\", \"2021-04-21T00:00:00\", \"2021-04-22T00:00:00\", \"2021-04-23T00:00:00\", \"2021-04-26T00:00:00\", \"2021-04-27T00:00:00\", \"2021-04-28T00:00:00\", \"2021-04-29T00:00:00\", \"2021-04-30T00:00:00\", \"2021-05-03T00:00:00\", \"2021-05-04T00:00:00\", \"2021-05-05T00:00:00\", \"2021-05-06T00:00:00\", \"2021-05-07T00:00:00\", \"2021-05-10T00:00:00\", \"2021-05-11T00:00:00\", \"2021-05-12T00:00:00\", \"2021-05-13T00:00:00\", \"2021-05-14T00:00:00\", \"2021-05-17T00:00:00\", \"2021-05-18T00:00:00\", \"2021-05-19T00:00:00\", \"2021-05-20T00:00:00\", \"2021-05-21T00:00:00\", \"2021-05-24T00:00:00\", \"2021-05-25T00:00:00\", \"2021-05-26T00:00:00\", \"2021-05-27T00:00:00\", \"2021-05-28T00:00:00\", \"2021-06-01T00:00:00\", \"2021-06-02T00:00:00\", \"2021-06-03T00:00:00\", \"2021-06-04T00:00:00\", \"2021-06-07T00:00:00\", \"2021-06-08T00:00:00\", \"2021-06-09T00:00:00\", \"2021-06-10T00:00:00\", \"2021-06-11T00:00:00\", \"2021-06-14T00:00:00\", \"2021-06-15T00:00:00\", \"2021-06-16T00:00:00\", \"2021-06-17T00:00:00\", \"2021-06-18T00:00:00\", \"2021-06-21T00:00:00\", \"2021-06-22T00:00:00\", \"2021-06-23T00:00:00\", \"2021-06-24T00:00:00\", \"2021-06-25T00:00:00\", \"2021-06-28T00:00:00\", \"2021-06-29T00:00:00\", \"2021-06-30T00:00:00\", \"2021-07-01T00:00:00\", \"2021-07-02T00:00:00\", \"2021-07-06T00:00:00\", \"2021-07-07T00:00:00\", \"2021-07-08T00:00:00\", \"2021-07-09T00:00:00\", \"2021-07-12T00:00:00\", \"2021-07-13T00:00:00\", \"2021-07-14T00:00:00\", \"2021-07-15T00:00:00\", \"2021-07-16T00:00:00\", \"2021-07-19T00:00:00\", \"2021-07-20T00:00:00\", \"2021-07-21T00:00:00\", \"2021-07-22T00:00:00\", \"2021-07-23T00:00:00\", \"2021-07-26T00:00:00\", \"2021-07-27T00:00:00\", \"2021-07-28T00:00:00\", \"2021-07-29T00:00:00\", \"2021-07-30T00:00:00\", \"2021-08-02T00:00:00\", \"2021-08-03T00:00:00\", \"2021-08-04T00:00:00\", \"2021-08-05T00:00:00\", \"2021-08-06T00:00:00\", \"2021-08-09T00:00:00\", \"2021-08-10T00:00:00\", \"2021-08-11T00:00:00\", \"2021-08-12T00:00:00\", \"2021-08-13T00:00:00\", \"2021-08-16T00:00:00\", \"2021-08-17T00:00:00\", \"2021-08-18T00:00:00\", \"2021-08-19T00:00:00\", \"2021-08-20T00:00:00\", \"2021-08-23T00:00:00\", \"2021-08-24T00:00:00\", \"2021-08-25T00:00:00\", \"2021-08-26T00:00:00\", \"2021-08-27T00:00:00\", \"2021-08-30T00:00:00\", \"2021-08-31T00:00:00\", \"2021-09-01T00:00:00\", \"2021-09-02T00:00:00\", \"2021-09-03T00:00:00\", \"2021-09-07T00:00:00\", \"2021-09-08T00:00:00\", \"2021-09-09T00:00:00\", \"2021-09-10T00:00:00\", \"2021-09-13T00:00:00\", \"2021-09-14T00:00:00\", \"2021-09-15T00:00:00\", \"2021-09-16T00:00:00\", \"2021-09-17T00:00:00\", \"2021-09-20T00:00:00\", \"2021-09-21T00:00:00\", \"2021-09-22T00:00:00\", \"2021-09-23T00:00:00\", \"2021-09-24T00:00:00\", \"2021-09-27T00:00:00\", \"2021-09-28T00:00:00\", \"2021-09-29T00:00:00\", \"2021-09-30T00:00:00\", \"2021-10-01T00:00:00\", \"2021-10-04T00:00:00\", \"2021-10-05T00:00:00\", \"2021-10-06T00:00:00\", \"2021-10-07T00:00:00\", \"2021-10-08T00:00:00\", \"2021-10-11T00:00:00\", \"2021-10-12T00:00:00\", \"2021-10-13T00:00:00\", \"2021-10-14T00:00:00\", \"2021-10-15T00:00:00\", \"2021-10-18T00:00:00\", \"2021-10-19T00:00:00\", \"2021-10-20T00:00:00\", \"2021-10-21T00:00:00\", \"2021-10-22T00:00:00\", \"2021-10-25T00:00:00\", \"2021-10-26T00:00:00\", \"2021-10-27T00:00:00\", \"2021-10-28T00:00:00\", \"2021-10-29T00:00:00\", \"2021-11-01T00:00:00\", \"2021-11-02T00:00:00\", \"2021-11-03T00:00:00\", \"2021-11-04T00:00:00\", \"2021-11-05T00:00:00\", \"2021-11-08T00:00:00\", \"2021-11-09T00:00:00\", \"2021-11-10T00:00:00\", \"2021-11-11T00:00:00\", \"2021-11-12T00:00:00\", \"2021-11-15T00:00:00\", \"2021-11-16T00:00:00\", \"2021-11-17T00:00:00\", \"2021-11-18T00:00:00\", \"2021-11-19T00:00:00\", \"2021-11-20T00:00:00\", \"2021-11-21T00:00:00\", \"2021-11-22T00:00:00\", \"2021-11-23T00:00:00\", \"2021-11-24T00:00:00\", \"2021-11-25T00:00:00\", \"2021-11-26T00:00:00\", \"2021-11-27T00:00:00\", \"2021-11-28T00:00:00\", \"2021-11-29T00:00:00\", \"2021-11-30T00:00:00\", \"2021-12-01T00:00:00\", \"2021-12-02T00:00:00\", \"2021-12-03T00:00:00\", \"2021-12-04T00:00:00\", \"2021-12-05T00:00:00\", \"2021-12-06T00:00:00\", \"2021-12-07T00:00:00\", \"2021-12-08T00:00:00\", \"2021-12-09T00:00:00\", \"2021-12-10T00:00:00\", \"2021-12-11T00:00:00\", \"2021-12-12T00:00:00\", \"2021-12-13T00:00:00\", \"2021-12-14T00:00:00\", \"2021-12-15T00:00:00\", \"2021-12-16T00:00:00\", \"2021-12-17T00:00:00\", \"2021-12-18T00:00:00\", \"2021-12-19T00:00:00\"], \"xaxis\": \"x\", \"y\": [417.3354463785238, 416.8921794361448, 412.6979806994162, 416.9577120876992, 413.0877860989529, 412.64451915657145, 408.4503204198412, 408.37618321874004, 412.7100518081088, 408.8401258249149, 408.39685888436225, 404.20266014947003, 404.12852295020787, 408.46239154141574, 404.59246555821966, 404.14919861767385, 399.95499988277794, 399.8808626897837, 404.21473128727536, 400.3448053228662, 399.9015383885921, 395.7073396599627, 395.6332024669763, 396.09714510004846, 395.65387816577237, 391.45967948913574, 391.3855423481334, 391.84948518919686, 391.4062183069192, 387.2120196302956, 387.1378824892865, 391.47175113877864, 387.60182533035373, 387.15855845247637, 382.9643597802555, 382.8902226436627, 387.22409129757256, 382.9108986244895, 378.7166999522732, 378.64256281568026, 382.9764314695687, 379.10650578668896, 378.6632389462479, 374.46904031146715, 374.3949032123065, 378.7287719036289, 374.85884622074747, 374.41557938031275, 370.2213807455343, 370.1472435615925, 374.48111216813976, 370.61118623089186, 370.16791930567535, 365.9737205861095, 365.89958340216566, 370.2334520087201, 365.92025914625503, 361.725826545731, 361.6514554808391, 365.9850902064476, 362.11446262632734, 361.6709618201675, 357.47652921964277, 357.4021581547446, 361.73579288036046, 357.8651651848146, 357.4216643401642, 353.227231701158, 353.15286059779686, 357.4864952849065, 353.61586758937966, 353.17236674473037, 348.97793410572564, 348.903563027422, 353.2371977396044, 349.3665701192728, 348.92306929969016, 344.72863668576105, 344.65426560745675, 348.98790031963864, 345.11727269931134, 344.6738098968317, 340.47941530001407, 340.4050822388306, 344.738754968125, 340.86824139912767, 340.4247785966455, 336.2303839998263, 336.1560509386408, 337.14854946186927, 336.83742150012347, 332.7753617440343, 332.83336352358, 337.2993710935921, 333.825862046807, 333.5147340850669, 329.45267432897396, 329.7456942753517, 334.4467200122117, 331.6782654659062, 331.60215567099874, 327.7751140817397, 328.0681340281173, 332.7691597649765, 330.78581609534007, 330.97140992599066, 327.4060719622839, 327.96079553421606, 332.9235248966397, 330.94018122700163, 331.12577505765626, 327.5604370939626, 328.3646001372582, 333.5767689710598, 332.3417437155286, 332.7767770175435, 329.46087852521237, 330.26504156851394, 335.47721040231465, 334.2421851467825, 334.92817172846617, 331.86322651581094, 332.9183428387838, 338.38146495223447, 337.8992995357349, 338.58528611742327, 335.5203409047749, 336.57545722773915, 342.03859235295715, 342.2424655652229, 339.177533364339, 340.23266269907907, 345.6957978243047, 345.21367144309033, 345.8996710365535, 342.83473883566495, 343.8898681221539, 349.35300319913756, 348.870876673174, 349.55687621838916, 346.4919439692468, 347.54707325574134, 353.01020833270394, 352.5280818067594, 353.2140812162219, 350.1491488313169, 351.2042779820431, 356.66741292325105, 356.1852859900254, 356.87128539947116, 353.80635301456454, 354.8614821652967, 360.0374568129395, 359.09268811486396, 355.74059543638333, 356.5085642935428, 361.6845389411848, 360.34093112723036, 360.7397702431087, 357.387677564638, 357.7058012467936, 362.4319307194565, 359.7387873805131, 359.68778132138635, 355.8858434679191, 356.20396715008235, 360.9300966227366, 358.2369532837921, 357.7249673264219, 353.4620495747121, 353.3191933586326, 357.5843429330325, 353.5082598993838, 352.99627394201826, 348.7333561903131, 348.5904999742351, 352.4891958699729, 347.31375180033024, 346.4353121643088, 341.80594073393223, 341.2966308391987, 345.1953267349438, 340.01988266529196, 339.141443029271, 334.5120715976494, 334.00276170165245, 337.9014575961418, 332.726013522723, 331.8475738854489, 327.2182024538227, 326.70889255782333, 330.6075884523202, 325.4321443790967, 324.5537047418915, 319.9243333103354, 319.41502341440315, 323.3137193089732, 317.25983559852455, 312.6304641669668, 312.12115427103254, 316.01985038238246, 310.844406959472, 309.9659675390321, 305.3365963242402, 304.82728664508636, 308.7259827564069, 303.55053933351485, 302.6720999130797, 298.0427286982947, 297.53341901913234, 301.43211513046015, 296.256671707559, 295.3782322871242, 290.74886107234073, 290.2395513931861, 294.1382475045134, 288.9628040816025, 288.0843646611688, 283.4549934463807, 282.9456837672241, 286.8443798785297, 281.66893645566006, 280.7904970352134, 276.1611258204329, 275.6518161412697, 279.5505122525912, 274.37506882970365, 273.4966294092662, 268.8672581944728, 268.35794851531557, 272.25664462663633, 267.08120120374775, 266.2027617833077, 261.57339056851276, 261.06408088936143, 264.96277700068964, 259.78733357779055, 258.90889415735523, 254.27952294255883, 253.7702132633991, 257.6689093747347, 252.49346595183474, 251.61502653139985, 246.98565531661333, 246.47634563745288, 250.37504174879624, 245.19959832589234, 244.32115890544446, 239.6917876906594, 239.18247801149084, 243.08117412284133, 246.78037182768063, 245.73839069218423, 237.90573069993647, 237.027291279489, 232.39792006469938, 231.8886103855447, 235.78730649686582, 239.486504201727, 238.44452306622796, 230.61186307397935, 229.7334236535366, 225.10405243876, 224.59474275959846, 228.49343887091908, 232.19263657577332, 231.1506554402717, 223.31799544802345, 222.43955602758336, 217.81018481279995, 217.30087513364447, 221.1995712449724, 224.898768949817, 223.8567878143342, 216.0241278220675, 215.1456884016309, 210.51631718684595, 210.00700750769033, 213.90570361901752, 217.60490132385658, 216.5629201883738], \"yaxis\": \"y\"}],\n",
              "                        {\"legend\": {\"tracegroupgap\": 0}, \"margin\": {\"t\": 60}, \"template\": {\"data\": {\"bar\": [{\"error_x\": {\"color\": \"#2a3f5f\"}, \"error_y\": {\"color\": \"#2a3f5f\"}, \"marker\": {\"line\": {\"color\": \"#E5ECF6\", \"width\": 0.5}}, \"type\": \"bar\"}], \"barpolar\": [{\"marker\": {\"line\": {\"color\": \"#E5ECF6\", \"width\": 0.5}}, \"type\": \"barpolar\"}], \"carpet\": [{\"aaxis\": {\"endlinecolor\": \"#2a3f5f\", \"gridcolor\": \"white\", \"linecolor\": \"white\", \"minorgridcolor\": \"white\", \"startlinecolor\": \"#2a3f5f\"}, \"baxis\": {\"endlinecolor\": \"#2a3f5f\", \"gridcolor\": \"white\", \"linecolor\": \"white\", \"minorgridcolor\": \"white\", \"startlinecolor\": \"#2a3f5f\"}, \"type\": \"carpet\"}], \"choropleth\": [{\"colorbar\": {\"outlinewidth\": 0, \"ticks\": \"\"}, \"type\": \"choropleth\"}], \"contour\": [{\"colorbar\": {\"outlinewidth\": 0, \"ticks\": \"\"}, \"colorscale\": [[0.0, \"#0d0887\"], [0.1111111111111111, \"#46039f\"], [0.2222222222222222, \"#7201a8\"], [0.3333333333333333, \"#9c179e\"], [0.4444444444444444, \"#bd3786\"], [0.5555555555555556, \"#d8576b\"], [0.6666666666666666, \"#ed7953\"], [0.7777777777777778, \"#fb9f3a\"], [0.8888888888888888, \"#fdca26\"], [1.0, \"#f0f921\"]], \"type\": \"contour\"}], \"contourcarpet\": [{\"colorbar\": {\"outlinewidth\": 0, \"ticks\": \"\"}, \"type\": \"contourcarpet\"}], \"heatmap\": [{\"colorbar\": {\"outlinewidth\": 0, \"ticks\": \"\"}, \"colorscale\": [[0.0, \"#0d0887\"], [0.1111111111111111, \"#46039f\"], [0.2222222222222222, \"#7201a8\"], [0.3333333333333333, \"#9c179e\"], [0.4444444444444444, \"#bd3786\"], [0.5555555555555556, \"#d8576b\"], [0.6666666666666666, \"#ed7953\"], [0.7777777777777778, \"#fb9f3a\"], [0.8888888888888888, \"#fdca26\"], [1.0, \"#f0f921\"]], \"type\": \"heatmap\"}], \"heatmapgl\": [{\"colorbar\": {\"outlinewidth\": 0, \"ticks\": \"\"}, \"colorscale\": [[0.0, \"#0d0887\"], [0.1111111111111111, \"#46039f\"], [0.2222222222222222, \"#7201a8\"], [0.3333333333333333, \"#9c179e\"], [0.4444444444444444, \"#bd3786\"], [0.5555555555555556, \"#d8576b\"], [0.6666666666666666, \"#ed7953\"], [0.7777777777777778, \"#fb9f3a\"], [0.8888888888888888, \"#fdca26\"], [1.0, \"#f0f921\"]], \"type\": \"heatmapgl\"}], \"histogram\": [{\"marker\": {\"colorbar\": {\"outlinewidth\": 0, \"ticks\": \"\"}}, \"type\": \"histogram\"}], \"histogram2d\": [{\"colorbar\": {\"outlinewidth\": 0, \"ticks\": \"\"}, \"colorscale\": [[0.0, \"#0d0887\"], [0.1111111111111111, \"#46039f\"], [0.2222222222222222, \"#7201a8\"], [0.3333333333333333, \"#9c179e\"], [0.4444444444444444, \"#bd3786\"], [0.5555555555555556, \"#d8576b\"], [0.6666666666666666, \"#ed7953\"], [0.7777777777777778, \"#fb9f3a\"], [0.8888888888888888, \"#fdca26\"], [1.0, \"#f0f921\"]], \"type\": \"histogram2d\"}], \"histogram2dcontour\": [{\"colorbar\": {\"outlinewidth\": 0, \"ticks\": \"\"}, \"colorscale\": [[0.0, \"#0d0887\"], [0.1111111111111111, \"#46039f\"], [0.2222222222222222, \"#7201a8\"], [0.3333333333333333, \"#9c179e\"], [0.4444444444444444, \"#bd3786\"], [0.5555555555555556, \"#d8576b\"], [0.6666666666666666, \"#ed7953\"], [0.7777777777777778, \"#fb9f3a\"], [0.8888888888888888, \"#fdca26\"], [1.0, \"#f0f921\"]], \"type\": \"histogram2dcontour\"}], \"mesh3d\": [{\"colorbar\": {\"outlinewidth\": 0, \"ticks\": \"\"}, \"type\": \"mesh3d\"}], \"parcoords\": [{\"line\": {\"colorbar\": {\"outlinewidth\": 0, \"ticks\": \"\"}}, \"type\": \"parcoords\"}], \"pie\": [{\"automargin\": true, \"type\": \"pie\"}], \"scatter\": [{\"marker\": {\"colorbar\": {\"outlinewidth\": 0, \"ticks\": \"\"}}, \"type\": \"scatter\"}], \"scatter3d\": [{\"line\": {\"colorbar\": {\"outlinewidth\": 0, \"ticks\": \"\"}}, \"marker\": {\"colorbar\": {\"outlinewidth\": 0, \"ticks\": \"\"}}, \"type\": \"scatter3d\"}], \"scattercarpet\": [{\"marker\": {\"colorbar\": {\"outlinewidth\": 0, \"ticks\": \"\"}}, \"type\": \"scattercarpet\"}], \"scattergeo\": [{\"marker\": {\"colorbar\": {\"outlinewidth\": 0, \"ticks\": \"\"}}, \"type\": \"scattergeo\"}], \"scattergl\": [{\"marker\": {\"colorbar\": {\"outlinewidth\": 0, \"ticks\": \"\"}}, \"type\": \"scattergl\"}], \"scattermapbox\": [{\"marker\": {\"colorbar\": {\"outlinewidth\": 0, \"ticks\": \"\"}}, \"type\": \"scattermapbox\"}], \"scatterpolar\": [{\"marker\": {\"colorbar\": {\"outlinewidth\": 0, \"ticks\": \"\"}}, \"type\": \"scatterpolar\"}], \"scatterpolargl\": [{\"marker\": {\"colorbar\": {\"outlinewidth\": 0, \"ticks\": \"\"}}, \"type\": \"scatterpolargl\"}], \"scatterternary\": [{\"marker\": {\"colorbar\": {\"outlinewidth\": 0, \"ticks\": \"\"}}, \"type\": \"scatterternary\"}], \"surface\": [{\"colorbar\": {\"outlinewidth\": 0, \"ticks\": \"\"}, \"colorscale\": [[0.0, \"#0d0887\"], [0.1111111111111111, \"#46039f\"], [0.2222222222222222, \"#7201a8\"], [0.3333333333333333, \"#9c179e\"], [0.4444444444444444, \"#bd3786\"], [0.5555555555555556, \"#d8576b\"], [0.6666666666666666, \"#ed7953\"], [0.7777777777777778, \"#fb9f3a\"], [0.8888888888888888, \"#fdca26\"], [1.0, \"#f0f921\"]], \"type\": \"surface\"}], \"table\": [{\"cells\": {\"fill\": {\"color\": \"#EBF0F8\"}, \"line\": {\"color\": \"white\"}}, \"header\": {\"fill\": {\"color\": \"#C8D4E3\"}, \"line\": {\"color\": \"white\"}}, \"type\": \"table\"}]}, \"layout\": {\"annotationdefaults\": {\"arrowcolor\": \"#2a3f5f\", \"arrowhead\": 0, \"arrowwidth\": 1}, \"coloraxis\": {\"colorbar\": {\"outlinewidth\": 0, \"ticks\": \"\"}}, \"colorscale\": {\"diverging\": [[0, \"#8e0152\"], [0.1, \"#c51b7d\"], [0.2, \"#de77ae\"], [0.3, \"#f1b6da\"], [0.4, \"#fde0ef\"], [0.5, \"#f7f7f7\"], [0.6, \"#e6f5d0\"], [0.7, \"#b8e186\"], [0.8, \"#7fbc41\"], [0.9, \"#4d9221\"], [1, \"#276419\"]], \"sequential\": [[0.0, \"#0d0887\"], [0.1111111111111111, \"#46039f\"], [0.2222222222222222, \"#7201a8\"], [0.3333333333333333, \"#9c179e\"], [0.4444444444444444, \"#bd3786\"], [0.5555555555555556, \"#d8576b\"], [0.6666666666666666, \"#ed7953\"], [0.7777777777777778, \"#fb9f3a\"], [0.8888888888888888, \"#fdca26\"], [1.0, \"#f0f921\"]], \"sequentialminus\": [[0.0, \"#0d0887\"], [0.1111111111111111, \"#46039f\"], [0.2222222222222222, \"#7201a8\"], [0.3333333333333333, \"#9c179e\"], [0.4444444444444444, \"#bd3786\"], [0.5555555555555556, \"#d8576b\"], [0.6666666666666666, \"#ed7953\"], [0.7777777777777778, \"#fb9f3a\"], [0.8888888888888888, \"#fdca26\"], [1.0, \"#f0f921\"]]}, \"colorway\": [\"#636efa\", \"#EF553B\", \"#00cc96\", \"#ab63fa\", \"#FFA15A\", \"#19d3f3\", \"#FF6692\", \"#B6E880\", \"#FF97FF\", \"#FECB52\"], \"font\": {\"color\": \"#2a3f5f\"}, \"geo\": {\"bgcolor\": \"white\", \"lakecolor\": \"white\", \"landcolor\": \"#E5ECF6\", \"showlakes\": true, \"showland\": true, \"subunitcolor\": \"white\"}, \"hoverlabel\": {\"align\": \"left\"}, \"hovermode\": \"closest\", \"mapbox\": {\"style\": \"light\"}, \"paper_bgcolor\": \"white\", \"plot_bgcolor\": \"#E5ECF6\", \"polar\": {\"angularaxis\": {\"gridcolor\": \"white\", \"linecolor\": \"white\", \"ticks\": \"\"}, \"bgcolor\": \"#E5ECF6\", \"radialaxis\": {\"gridcolor\": \"white\", \"linecolor\": \"white\", \"ticks\": \"\"}}, \"scene\": {\"xaxis\": {\"backgroundcolor\": \"#E5ECF6\", \"gridcolor\": \"white\", \"gridwidth\": 2, \"linecolor\": \"white\", \"showbackground\": true, \"ticks\": \"\", \"zerolinecolor\": \"white\"}, \"yaxis\": {\"backgroundcolor\": \"#E5ECF6\", \"gridcolor\": \"white\", \"gridwidth\": 2, \"linecolor\": \"white\", \"showbackground\": true, \"ticks\": \"\", \"zerolinecolor\": \"white\"}, \"zaxis\": {\"backgroundcolor\": \"#E5ECF6\", \"gridcolor\": \"white\", \"gridwidth\": 2, \"linecolor\": \"white\", \"showbackground\": true, \"ticks\": \"\", \"zerolinecolor\": \"white\"}}, \"shapedefaults\": {\"line\": {\"color\": \"#2a3f5f\"}}, \"ternary\": {\"aaxis\": {\"gridcolor\": \"white\", \"linecolor\": \"white\", \"ticks\": \"\"}, \"baxis\": {\"gridcolor\": \"white\", \"linecolor\": \"white\", \"ticks\": \"\"}, \"bgcolor\": \"#E5ECF6\", \"caxis\": {\"gridcolor\": \"white\", \"linecolor\": \"white\", \"ticks\": \"\"}}, \"title\": {\"x\": 0.05}, \"xaxis\": {\"automargin\": true, \"gridcolor\": \"white\", \"linecolor\": \"white\", \"ticks\": \"\", \"title\": {\"standoff\": 15}, \"zerolinecolor\": \"white\", \"zerolinewidth\": 2}, \"yaxis\": {\"automargin\": true, \"gridcolor\": \"white\", \"linecolor\": \"white\", \"ticks\": \"\", \"title\": {\"standoff\": 15}, \"zerolinecolor\": \"white\", \"zerolinewidth\": 2}}}, \"xaxis\": {\"anchor\": \"y\", \"domain\": [0.0, 1.0], \"title\": {\"text\": \"ds\"}}, \"yaxis\": {\"anchor\": \"x\", \"domain\": [0.0, 1.0], \"title\": {\"text\": \"yhat\"}}},\n",
              "                        {\"responsive\": true}\n",
              "                    ).then(function(){\n",
              "                            \n",
              "var gd = document.getElementById('98fe7d41-3c0e-4e27-98cc-f4261fd7d11b');\n",
              "var x = new MutationObserver(function (mutations, observer) {{\n",
              "        var display = window.getComputedStyle(gd).display;\n",
              "        if (!display || display === 'none') {{\n",
              "            console.log([gd, 'removed!']);\n",
              "            Plotly.purge(gd);\n",
              "            observer.disconnect();\n",
              "        }}\n",
              "}});\n",
              "\n",
              "// Listen for the removal of the full notebook cells\n",
              "var notebookContainer = gd.closest('#notebook-container');\n",
              "if (notebookContainer) {{\n",
              "    x.observe(notebookContainer, {childList: true});\n",
              "}}\n",
              "\n",
              "// Listen for the clearing of the current output cell\n",
              "var outputEl = gd.closest('.output');\n",
              "if (outputEl) {{\n",
              "    x.observe(outputEl, {childList: true});\n",
              "}}\n",
              "\n",
              "                        })\n",
              "                };\n",
              "                \n",
              "            </script>\n",
              "        </div>\n",
              "</body>\n",
              "</html>"
            ]
          },
          "metadata": {}
        }
      ]
    },
    {
      "cell_type": "code",
      "metadata": {
        "id": "WQEDaeWNxhIk",
        "colab": {
          "base_uri": "https://localhost:8080/",
          "height": 441
        },
        "outputId": "56e3066a-e0bf-4c86-de34-294784fbab6a"
      },
      "source": [
        "figure= m.plot(forecast,xlabel='ds',ylabel='y')"
      ],
      "execution_count": null,
      "outputs": [
        {
          "output_type": "display_data",
          "data": {
            "image/png": "[encoded data removed]",
            "text/plain": [
              "<Figure size 720x432 with 1 Axes>"
            ]
          },
          "metadata": {}
        }
      ]
    },
    {
      "cell_type": "code",
      "metadata": {
        "id": "Jc7eqCN7xhNC",
        "colab": {
          "base_uri": "https://localhost:8080/",
          "height": 441
        },
        "outputId": "fd2ae817-82ff-4768-d67a-b2bf7fde9fe7"
      },
      "source": [
        "figure2=m.plot_components(forecast)"
      ],
      "execution_count": null,
      "outputs": [
        {
          "output_type": "display_data",
          "data": {
            "image/png": "[encoded data removed]",
            "text/plain": [
              "<Figure size 648x432 with 2 Axes>"
            ]
          },
          "metadata": {}
        }
      ]
    },
    {
      "cell_type": "markdown",
      "metadata": {
        "id": "6csAGFe7DTij"
      },
      "source": [
        "##Downloading the Forecast data"
      ]
    },
    {
      "cell_type": "code",
      "metadata": {
        "id": "FFchZPzWDY9c",
        "colab": {
          "base_uri": "https://localhost:8080/",
          "height": 17
        },
        "outputId": "6366d6e3-cdb6-48a7-e75f-651213e68bf5"
      },
      "source": [
        "from google.colab import files\n",
        "forecast.to_csv('forcast.csv')\n",
        "files.download('forcast.csv')"
      ],
      "execution_count": null,
      "outputs": [
        {
          "output_type": "display_data",
          "data": {
            "application/javascript": [
              "\n",
              "    async function download(id, filename, size) {\n",
              "      if (!google.colab.kernel.accessAllowed) {\n",
              "        return;\n",
              "      }\n",
              "      const div = document.createElement('div');\n",
              "      const label = document.createElement('label');\n",
              "      label.textContent = `Downloading \"${filename}\": `;\n",
              "      div.appendChild(label);\n",
              "      const progress = document.createElement('progress');\n",
              "      progress.max = size;\n",
              "      div.appendChild(progress);\n",
              "      document.body.appendChild(div);\n",
              "\n",
              "      const buffers = [];\n",
              "      let downloaded = 0;\n",
              "\n",
              "      const channel = await google.colab.kernel.comms.open(id);\n",
              "      // Send a message to notify the kernel that we're ready.\n",
              "      channel.send({})\n",
              "\n",
              "      for await (const message of channel.messages) {\n",
              "        // Send a message to notify the kernel that we're ready.\n",
              "        channel.send({})\n",
              "        if (message.buffers) {\n",
              "          for (const buffer of message.buffers) {\n",
              "            buffers.push(buffer);\n",
              "            downloaded += buffer.byteLength;\n",
              "            progress.value = downloaded;\n",
              "          }\n",
              "        }\n",
              "      }\n",
              "      const blob = new Blob(buffers, {type: 'application/binary'});\n",
              "      const a = document.createElement('a');\n",
              "      a.href = window.URL.createObjectURL(blob);\n",
              "      a.download = filename;\n",
              "      div.appendChild(a);\n",
              "      a.click();\n",
              "      div.remove();\n",
              "    }\n",
              "  "
            ],
            "text/plain": [
              "<IPython.core.display.Javascript object>"
            ]
          },
          "metadata": {}
        },
        {
          "output_type": "display_data",
          "data": {
            "application/javascript": [
              "download(\"download_04b600ba-f98f-4bb9-8f08-474c0946fdf0\", \"forcast.csv\", 71173)"
            ],
            "text/plain": [
              "<IPython.core.display.Javascript object>"
            ]
          },
          "metadata": {}
        }
      ]
    },
    {
      "cell_type": "code",
      "metadata": {
        "id": "3hJQ3klWQ8Cw"
      },
      "source": [
        ""
      ],
      "execution_count": null,
      "outputs": []
    }
  ]
}